{
 "cells": [
  {
   "cell_type": "markdown",
   "metadata": {},
   "source": [
    "## 从简单任务开始"
   ]
  },
  {
   "cell_type": "code",
   "execution_count": 2,
   "metadata": {},
   "outputs": [
    {
     "name": "stdout",
     "output_type": "stream",
     "text": [
      "\n",
      "\n",
      "1955-56, 1956-57, 1957-58, 1958-59, 1959-60, 1965-66, 1997-98, 1999-2000, 2001-02, 2013-14, 2015-16, 2016-17, 2017-18.\n"
     ]
    }
   ],
   "source": [
    "import openai\n",
    "import os\n",
    "\n",
    "openai.api_key = os.environ.get(\"OPENAI_API_KEY\")\n",
    "COMPLETION_MODEL = \"text-davinci-003\"\n",
    "\n",
    "\n",
    "def get_response(prompt):\n",
    "    completions = openai.Completion.create (\n",
    "        engine=COMPLETION_MODEL,\n",
    "        prompt=prompt,\n",
    "        max_tokens=512,\n",
    "        n=1,\n",
    "        stop=None,\n",
    "        temperature=0.0,        \n",
    "    )\n",
    "    message = completions['choices'][0].text # type: ignore\n",
    "    return message\n",
    "\n",
    "# 少了没有数据的21-22\n",
    "print(get_response(\"皇家马德里获得过几次欧洲冠军联赛冠军，分别是哪几年？\")) "
   ]
  },
  {
   "cell_type": "code",
   "execution_count": 3,
   "metadata": {},
   "outputs": [
    {
     "name": "stdout",
     "output_type": "stream",
     "text": [
      "\n",
      "\n",
      "Imagen算法是一种基于深度学习的图像分类算法，它可以自动识别图像中的物体，并将其分类为不同的类别。它使用卷积神经网络（CNN）来提取图像的特征，并使用支持向量机（SVM）来进行分类。\n"
     ]
    }
   ],
   "source": [
    "# 基本上会胡扯\n",
    "print(get_response(\"Imagen算法是什么？\"))"
   ]
  },
  {
   "cell_type": "markdown",
   "metadata": {},
   "source": [
    "### 任务驱动，而不是问答驱动"
   ]
  },
  {
   "cell_type": "code",
   "execution_count": 1,
   "metadata": {},
   "outputs": [
    {
     "name": "stdout",
     "output_type": "stream",
     "text": [
      "\n",
      "{\n",
      "    \"title\": \"Glow-in-the-Dark Inflatable PVC Frog Night Market Hot Selling Water Toy\",\n",
      "    \"selling_points\": [\n",
      "        \"Made of durable PVC material\",\n",
      "        \"Glow-in-the-dark design for night play\",\n",
      "        \"Inflatable design for easy storage and transport\",\n",
      "        \"Perfect for pool, beach, and lake play\",\n",
      "        \"Great for children of all ages\"\n",
      "    ],\n",
      "    \"price_range\": \"$10 - $20\"\n",
      "}\n"
     ]
    }
   ],
   "source": [
    "import openai\n",
    "import os\n",
    "\n",
    "openai.api_key = os.environ.get(\"OPENAI_API_KEY\")\n",
    "COMPLETION_MODEL = \"text-davinci-003\"\n",
    "\n",
    "\n",
    "prompt = \"\"\"\n",
    "Consideration proudct : 工厂现货PVC充气青蛙夜市地摊热卖充气玩具发光蛙儿童水上玩具\n",
    "\n",
    "1. Compose human readale product title used on Amazon in english within 20 words.\n",
    "2. Write 5 selling points for the products in Amazon.\n",
    "3. Evaluate a price range for this product in U.S.\n",
    "\n",
    "Output the result in json format with three properties called title, selling_points and price_range\n",
    "\"\"\"\n",
    "\n",
    "def get_response(prompt):\n",
    "    completions = openai.Completion.create (\n",
    "        engine=COMPLETION_MODEL,\n",
    "        prompt=prompt,\n",
    "        max_tokens=512,\n",
    "        n=1,\n",
    "        stop=None,\n",
    "        temperature=0.0,        \n",
    "    )\n",
    "    message = completions['choices'][0].text # type: ignore\n",
    "    return message\n",
    "\n",
    "print(get_response(prompt)) "
   ]
  },
  {
   "cell_type": "markdown",
   "metadata": {},
   "source": [
    "### 试一下命名实体识别"
   ]
  },
  {
   "cell_type": "code",
   "execution_count": 4,
   "metadata": {},
   "outputs": [
    {
     "name": "stdout",
     "output_type": "stream",
     "text": [
      "\n",
      "{\n",
      "    \"实体\": [\"Man Utd\", \"Ten Hag\", \"League Cup\"]\n",
      "}\n"
     ]
    }
   ],
   "source": [
    "sentence = \"Man Utd must win trophies, says Ten Hag ahead of League Cup final\"\n",
    "prompt = f\"请提取以下句子中的命名实体，并以json形式输出\\n{sentence} \\n\"\n",
    "\n",
    "print(get_response(prompt))"
   ]
  },
  {
   "cell_type": "code",
   "execution_count": 6,
   "metadata": {},
   "outputs": [
    {
     "name": "stdout",
     "output_type": "stream",
     "text": [
      "\n",
      "{\n",
      "    \"Organization\": [\"Man Utd\", \"League Cup\"],\n",
      "    \"Person\": [\"Ten Hag\"]\n",
      "}\n"
     ]
    }
   ],
   "source": [
    "prompt = f\"请提取以下句子中的命名实体，并以json形式输出，json的key是实体的类型。\\n{sentence} \\n\"\n",
    "print(get_response(prompt))"
   ]
  },
  {
   "cell_type": "code",
   "execution_count": 7,
   "metadata": {},
   "outputs": [
    {
     "name": "stdout",
     "output_type": "stream",
     "text": [
      "\n",
      "{\n",
      "    \"订单号\": \"202303251200ABC\"\n",
      "}\n"
     ]
    }
   ],
   "source": [
    "order_sentence = \"你好，我有一个订单一直没有收到，订单号是202303251200ABC\"\n",
    "prompt = f\"请提取以下句子中的命名实体，并以json形式输出，json的key是实体的类型。\\n{order_sentence} \\n\"\n",
    "print(get_response(prompt))"
   ]
  },
  {
   "cell_type": "markdown",
   "metadata": {},
   "source": [
    "### 情感分析"
   ]
  },
  {
   "cell_type": "code",
   "execution_count": 12,
   "metadata": {},
   "outputs": [
    {
     "name": "stdout",
     "output_type": "stream",
     "text": [
      "\n",
      "\n",
      "正面的。\n"
     ]
    }
   ],
   "source": [
    "prompts = \"\"\"判断一下以下用户的评论情感上是正面的还是负面的.\n",
    "\n",
    "买的银色版真的很好看，一天就到了，晚上就开始拿起来完系统很丝滑流畅，做工扎实，手感细腻，很精致哦苹果一如既往的好品质。\"\"\"\n",
    "\n",
    "print(get_response(prompts))"
   ]
  },
  {
   "cell_type": "markdown",
   "metadata": {},
   "source": [
    "### 更好的Prompt来控制结果输出"
   ]
  },
  {
   "cell_type": "code",
   "execution_count": 13,
   "metadata": {},
   "outputs": [
    {
     "name": "stdout",
     "output_type": "stream",
     "text": [
      "正面\n"
     ]
    }
   ],
   "source": [
    "prompts = \"\"\"判断一下用户的评论情感上是正面的还是负面的.\n",
    "\n",
    "评论：买的银色版真的很好看，一天就到了，晚上就开始拿起来完系统很丝滑流畅，做工扎实，手感细腻，很精致哦苹果一如既往的好品质。\n",
    "情感：\"\"\"\n",
    "\n",
    "print(get_response(prompts))"
   ]
  },
  {
   "cell_type": "markdown",
   "metadata": {},
   "source": [
    "### Few-shot Learning"
   ]
  },
  {
   "cell_type": "code",
   "execution_count": 14,
   "metadata": {},
   "outputs": [
    {
     "name": "stdout",
     "output_type": "stream",
     "text": [
      "正面\n"
     ]
    }
   ],
   "source": [
    "prompts = \"\"\"判断一下用户的评论情感上是正面的还是负面的\n",
    "评论：买的银色版真的很好看，一天就到了，晚上就开始拿起来完系统很丝滑流畅，做工扎实，手感细腻，很精致哦苹果一如既往的好品质\n",
    "情感：正面\n",
    "\n",
    "评论：随意降价，不予价保，服务态度差\n",
    "情感：负面\n",
    "\"\"\"\n",
    "\n",
    "good_case = prompts + \"\"\"\n",
    "评论：外形外观：苹果审美一直很好，金色非常漂亮\n",
    "拍照效果：14pro升级的4800万像素真的是没的说，太好了，\n",
    "运行速度：苹果的反应速度好，用上三五年也不会卡顿的，之前的7P用到现在也不卡\n",
    "其他特色：14pro的磨砂金真的太好看了，不太高调，也不至于没有特点，非常耐看，很好的\n",
    "情感：\n",
    "\"\"\"\n",
    "\n",
    "print(get_response(good_case))"
   ]
  },
  {
   "cell_type": "markdown",
   "metadata": {},
   "source": [
    "### 对于Few-Shot Learning的封装"
   ]
  },
  {
   "cell_type": "code",
   "execution_count": 19,
   "metadata": {},
   "outputs": [
    {
     "name": "stdout",
     "output_type": "stream",
     "text": [
      "Prompt:\n",
      "判断一下用户的评论情感上是正面的还是负面的\n",
      "\n",
      "评论： 买的银色版真的很好看，一天就到了，晚上就开始拿起来完系统很丝滑流畅，做工扎实，手感细腻，很精致哦苹果一如既往的好品质\n",
      "情感： 正面\n",
      "\n",
      "评论： 随意降价，不予价保，服务态度差\n",
      "情感： 负面\n",
      "\n",
      "评论： 外形外观：苹果审美一直很好，金色非常漂亮\n",
      "拍照效果：14pro升级的4800万像素真的是没的说，太好了，\n",
      "运行速度：苹果的反应速度好，用上三五年也不会卡顿的，之前的7P用到现在也不卡\n",
      "其他特色：14pro的磨砂金真的太好看了，不太高调，也不至于没有特点，非常耐看，很好的\n",
      "情感： \n",
      "\n",
      "\n",
      "\n",
      "Response:\n",
      " 正面\n"
     ]
    }
   ],
   "source": [
    "class Example:\n",
    "    def __init__(self, question, answer) -> None:\n",
    "        self.question = question\n",
    "        self.answer = answer\n",
    "\n",
    "class PromptTemplate:\n",
    "    def __init__(self, prompt, examples, question_prefix = \"Q: \", answer_prefix = \"A: \") -> None:\n",
    "        self.prompt = prompt\n",
    "        self.examples = examples\n",
    "        self.question_prefix = question_prefix\n",
    "        self.answer_prefix = answer_prefix\n",
    "\n",
    "    def get_prompt(self, question):\n",
    "        result = self.prompt + \"\\n\\n\"\n",
    "        for example in self.examples:\n",
    "            result += f\"{self.question_prefix} {example.question}\\n{self.answer_prefix} {example.answer}\\n\\n\"\n",
    "        result += f\"{self.question_prefix} {question}\\n{self.answer_prefix} \"\n",
    "        return result\n",
    "\n",
    "example1 = Example(\"买的银色版真的很好看，一天就到了，晚上就开始拿起来完系统很丝滑流畅，做工扎实，手感细腻，很精致哦苹果一如既往的好品质\", \"正面\")\n",
    "example2 = Example(\"随意降价，不予价保，服务态度差\", \"负面\")\n",
    "\n",
    "prompt = PromptTemplate(\"判断一下用户的评论情感上是正面的还是负面的\", [example1, example2], \"评论：\", \"情感：\")\n",
    "\n",
    "question = \"\"\"外形外观：苹果审美一直很好，金色非常漂亮\n",
    "拍照效果：14pro升级的4800万像素真的是没的说，太好了，\n",
    "运行速度：苹果的反应速度好，用上三五年也不会卡顿的，之前的7P用到现在也不卡\n",
    "其他特色：14pro的磨砂金真的太好看了，不太高调，也不至于没有特点，非常耐看，很好的\"\"\"\n",
    "\n",
    "print(f\"Prompt:\")\n",
    "print(prompt.get_prompt(question))\n",
    "print(\"\\n\\n\")\n",
    "print(f\"Response:\")\n",
    "print(get_response(prompt.get_prompt(question)))\n",
    "\n",
    "\n"
   ]
  },
  {
   "cell_type": "code",
   "execution_count": null,
   "metadata": {},
   "outputs": [],
   "source": []
  }
 ],
 "metadata": {
  "kernelspec": {
   "display_name": "mactalk",
   "language": "python",
   "name": "python3"
  },
  "language_info": {
   "codemirror_mode": {
    "name": "ipython",
    "version": 3
   },
   "file_extension": ".py",
   "mimetype": "text/x-python",
   "name": "python",
   "nbconvert_exporter": "python",
   "pygments_lexer": "ipython3",
   "version": "3.10.11"
  },
  "orig_nbformat": 4
 },
 "nbformat": 4,
 "nbformat_minor": 2
}
