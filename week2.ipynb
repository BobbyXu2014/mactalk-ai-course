{
 "cells": [
  {
   "cell_type": "markdown",
   "metadata": {},
   "source": [
    "## 从简单任务开始"
   ]
  },
  {
   "cell_type": "code",
   "execution_count": 2,
   "metadata": {},
   "outputs": [
    {
     "name": "stdout",
     "output_type": "stream",
     "text": [
      "\n",
      "\n",
      "1955-56, 1956-57, 1957-58, 1958-59, 1959-60, 1965-66, 1997-98, 1999-2000, 2001-02, 2013-14, 2015-16, 2016-17, 2017-18.\n"
     ]
    }
   ],
   "source": [
    "import openai\n",
    "import os\n",
    "\n",
    "openai.api_key = os.environ.get(\"OPENAI_API_KEY\")\n",
    "COMPLETION_MODEL = \"text-davinci-003\"\n",
    "\n",
    "\n",
    "def get_response(prompt):\n",
    "    completions = openai.Completion.create (\n",
    "        engine=COMPLETION_MODEL,\n",
    "        prompt=prompt,\n",
    "        max_tokens=512,\n",
    "        n=1,\n",
    "        stop=None,\n",
    "        temperature=0.0,        \n",
    "    )\n",
    "    message = completions['choices'][0].text # type: ignore\n",
    "    return message\n",
    "\n",
    "# 少了没有数据的21-22\n",
    "print(get_response(\"皇家马德里获得过几次欧洲冠军联赛冠军，分别是哪几年？\")) "
   ]
  },
  {
   "cell_type": "code",
   "execution_count": 3,
   "metadata": {},
   "outputs": [
    {
     "name": "stdout",
     "output_type": "stream",
     "text": [
      "\n",
      "\n",
      "Imagen算法是一种基于深度学习的图像分类算法，它可以自动识别图像中的物体，并将其分类为不同的类别。它使用卷积神经网络（CNN）来提取图像的特征，并使用支持向量机（SVM）来进行分类。\n"
     ]
    }
   ],
   "source": [
    "# 基本上会胡扯\n",
    "print(get_response(\"Imagen算法是什么？\"))"
   ]
  },
  {
   "cell_type": "markdown",
   "metadata": {},
   "source": [
    "### 任务驱动，而不是问答驱动"
   ]
  },
  {
   "cell_type": "code",
   "execution_count": 1,
   "metadata": {},
   "outputs": [
    {
     "name": "stdout",
     "output_type": "stream",
     "text": [
      "\n",
      "{\n",
      "    \"title\": \"Glow-in-the-Dark Inflatable PVC Frog Night Market Hot Selling Water Toy\",\n",
      "    \"selling_points\": [\n",
      "        \"Made of durable PVC material\",\n",
      "        \"Glow-in-the-dark design for night play\",\n",
      "        \"Inflatable design for easy storage and transport\",\n",
      "        \"Perfect for pool, beach, and lake play\",\n",
      "        \"Great for children of all ages\"\n",
      "    ],\n",
      "    \"price_range\": \"$10 - $20\"\n",
      "}\n"
     ]
    }
   ],
   "source": [
    "import openai\n",
    "import os\n",
    "\n",
    "openai.api_key = os.environ.get(\"OPENAI_API_KEY\")\n",
    "COMPLETION_MODEL = \"text-davinci-003\"\n",
    "\n",
    "\n",
    "prompt = \"\"\"\n",
    "Consideration proudct : 工厂现货PVC充气青蛙夜市地摊热卖充气玩具发光蛙儿童水上玩具\n",
    "\n",
    "1. Compose human readale product title used on Amazon in english within 20 words.\n",
    "2. Write 5 selling points for the products in Amazon.\n",
    "3. Evaluate a price range for this product in U.S.\n",
    "\n",
    "Output the result in json format with three properties called title, selling_points and price_range\n",
    "\"\"\"\n",
    "\n",
    "def get_response(prompt):\n",
    "    completions = openai.Completion.create (\n",
    "        engine=COMPLETION_MODEL,\n",
    "        prompt=prompt,\n",
    "        max_tokens=512,\n",
    "        n=1,\n",
    "        stop=None,\n",
    "        temperature=0.0,        \n",
    "    )\n",
    "    message = completions['choices'][0].text # type: ignore\n",
    "    return message\n",
    "\n",
    "print(get_response(prompt)) "
   ]
  },
  {
   "cell_type": "markdown",
   "metadata": {},
   "source": [
    "### 试一下命名实体识别"
   ]
  },
  {
   "cell_type": "code",
   "execution_count": 4,
   "metadata": {},
   "outputs": [
    {
     "name": "stdout",
     "output_type": "stream",
     "text": [
      "\n",
      "{\n",
      "    \"实体\": [\"Man Utd\", \"Ten Hag\", \"League Cup\"]\n",
      "}\n"
     ]
    }
   ],
   "source": [
    "sentence = \"Man Utd must win trophies, says Ten Hag ahead of League Cup final\"\n",
    "prompt = f\"请提取以下句子中的命名实体，并以json形式输出\\n{sentence} \\n\"\n",
    "\n",
    "print(get_response(prompt))"
   ]
  },
  {
   "cell_type": "code",
   "execution_count": 6,
   "metadata": {},
   "outputs": [
    {
     "name": "stdout",
     "output_type": "stream",
     "text": [
      "\n",
      "{\n",
      "    \"Organization\": [\"Man Utd\", \"League Cup\"],\n",
      "    \"Person\": [\"Ten Hag\"]\n",
      "}\n"
     ]
    }
   ],
   "source": [
    "prompt = f\"请提取以下句子中的命名实体，并以json形式输出，json的key是实体的类型。\\n{sentence} \\n\"\n",
    "print(get_response(prompt))"
   ]
  },
  {
   "cell_type": "code",
   "execution_count": 7,
   "metadata": {},
   "outputs": [
    {
     "name": "stdout",
     "output_type": "stream",
     "text": [
      "\n",
      "{\n",
      "    \"订单号\": \"202303251200ABC\"\n",
      "}\n"
     ]
    }
   ],
   "source": [
    "order_sentence = \"你好，我有一个订单一直没有收到，订单号是202303251200ABC\"\n",
    "prompt = f\"请提取以下句子中的命名实体，并以json形式输出，json的key是实体的类型。\\n{order_sentence} \\n\"\n",
    "print(get_response(prompt))"
   ]
  },
  {
   "cell_type": "markdown",
   "metadata": {},
   "source": [
    "### 情感分析"
   ]
  },
  {
   "cell_type": "code",
   "execution_count": 12,
   "metadata": {},
   "outputs": [
    {
     "name": "stdout",
     "output_type": "stream",
     "text": [
      "\n",
      "\n",
      "正面的。\n"
     ]
    }
   ],
   "source": [
    "prompts = \"\"\"判断一下以下用户的评论情感上是正面的还是负面的.\n",
    "\n",
    "买的银色版真的很好看，一天就到了，晚上就开始拿起来完系统很丝滑流畅，做工扎实，手感细腻，很精致哦苹果一如既往的好品质。\"\"\"\n",
    "\n",
    "print(get_response(prompts))"
   ]
  },
  {
   "cell_type": "markdown",
   "metadata": {},
   "source": [
    "### 更好的Prompt来控制结果输出"
   ]
  },
  {
   "cell_type": "code",
   "execution_count": 13,
   "metadata": {},
   "outputs": [
    {
     "name": "stdout",
     "output_type": "stream",
     "text": [
      "正面\n"
     ]
    }
   ],
   "source": [
    "prompts = \"\"\"判断一下用户的评论情感上是正面的还是负面的.\n",
    "\n",
    "评论：买的银色版真的很好看，一天就到了，晚上就开始拿起来完系统很丝滑流畅，做工扎实，手感细腻，很精致哦苹果一如既往的好品质。\n",
    "情感：\"\"\"\n",
    "\n",
    "print(get_response(prompts))"
   ]
  },
  {
   "cell_type": "markdown",
   "metadata": {},
   "source": [
    "## Few-shot Learning"
   ]
  },
  {
   "cell_type": "code",
   "execution_count": 14,
   "metadata": {},
   "outputs": [
    {
     "name": "stdout",
     "output_type": "stream",
     "text": [
      "正面\n"
     ]
    }
   ],
   "source": [
    "prompts = \"\"\"判断一下用户的评论情感上是正面的还是负面的\n",
    "评论：买的银色版真的很好看，一天就到了，晚上就开始拿起来完系统很丝滑流畅，做工扎实，手感细腻，很精致哦苹果一如既往的好品质\n",
    "情感：正面\n",
    "\n",
    "评论：随意降价，不予价保，服务态度差\n",
    "情感：负面\n",
    "\"\"\"\n",
    "\n",
    "good_case = prompts + \"\"\"\n",
    "评论：外形外观：苹果审美一直很好，金色非常漂亮\n",
    "拍照效果：14pro升级的4800万像素真的是没的说，太好了，\n",
    "运行速度：苹果的反应速度好，用上三五年也不会卡顿的，之前的7P用到现在也不卡\n",
    "其他特色：14pro的磨砂金真的太好看了，不太高调，也不至于没有特点，非常耐看，很好的\n",
    "情感：\n",
    "\"\"\"\n",
    "\n",
    "print(get_response(good_case))"
   ]
  },
  {
   "cell_type": "markdown",
   "metadata": {},
   "source": [
    "### 对于Few-Shot Learning的封装"
   ]
  },
  {
   "cell_type": "code",
   "execution_count": 19,
   "metadata": {},
   "outputs": [
    {
     "name": "stdout",
     "output_type": "stream",
     "text": [
      "Prompt:\n",
      "判断一下用户的评论情感上是正面的还是负面的\n",
      "\n",
      "评论： 买的银色版真的很好看，一天就到了，晚上就开始拿起来完系统很丝滑流畅，做工扎实，手感细腻，很精致哦苹果一如既往的好品质\n",
      "情感： 正面\n",
      "\n",
      "评论： 随意降价，不予价保，服务态度差\n",
      "情感： 负面\n",
      "\n",
      "评论： 外形外观：苹果审美一直很好，金色非常漂亮\n",
      "拍照效果：14pro升级的4800万像素真的是没的说，太好了，\n",
      "运行速度：苹果的反应速度好，用上三五年也不会卡顿的，之前的7P用到现在也不卡\n",
      "其他特色：14pro的磨砂金真的太好看了，不太高调，也不至于没有特点，非常耐看，很好的\n",
      "情感： \n",
      "\n",
      "\n",
      "\n",
      "Response:\n",
      " 正面\n"
     ]
    }
   ],
   "source": [
    "class Example:\n",
    "    def __init__(self, question, answer) -> None:\n",
    "        self.question = question\n",
    "        self.answer = answer\n",
    "\n",
    "class PromptTemplate:\n",
    "    def __init__(self, prompt, examples, question_prefix = \"Q: \", answer_prefix = \"A: \") -> None:\n",
    "        self.prompt = prompt\n",
    "        self.examples = examples\n",
    "        self.question_prefix = question_prefix\n",
    "        self.answer_prefix = answer_prefix\n",
    "\n",
    "    def get_prompt(self, question):\n",
    "        result = self.prompt + \"\\n\\n\"\n",
    "        for example in self.examples:\n",
    "            result += f\"{self.question_prefix} {example.question}\\n{self.answer_prefix} {example.answer}\\n\\n\"\n",
    "        result += f\"{self.question_prefix} {question}\\n{self.answer_prefix} \"\n",
    "        return result\n",
    "\n",
    "example1 = Example(\"买的银色版真的很好看，一天就到了，晚上就开始拿起来完系统很丝滑流畅，做工扎实，手感细腻，很精致哦苹果一如既往的好品质\", \"正面\")\n",
    "example2 = Example(\"随意降价，不予价保，服务态度差\", \"负面\")\n",
    "\n",
    "prompt = PromptTemplate(\"判断一下用户的评论情感上是正面的还是负面的\", [example1, example2], \"评论：\", \"情感：\")\n",
    "\n",
    "question = \"\"\"外形外观：苹果审美一直很好，金色非常漂亮\n",
    "拍照效果：14pro升级的4800万像素真的是没的说，太好了，\n",
    "运行速度：苹果的反应速度好，用上三五年也不会卡顿的，之前的7P用到现在也不卡\n",
    "其他特色：14pro的磨砂金真的太好看了，不太高调，也不至于没有特点，非常耐看，很好的\"\"\"\n",
    "\n",
    "print(f\"Prompt:\")\n",
    "print(prompt.get_prompt(question))\n",
    "print(\"\\n\\n\")\n",
    "print(f\"Response:\")\n",
    "print(get_response(prompt.get_prompt(question)))\n",
    "\n",
    "\n"
   ]
  },
  {
   "cell_type": "markdown",
   "metadata": {},
   "source": [
    "## Completions接口"
   ]
  },
  {
   "cell_type": "markdown",
   "metadata": {},
   "source": [
    "### max_tokens, temperature, top_p, n 以及 stop 参数的演示"
   ]
  },
  {
   "cell_type": "code",
   "execution_count": 1,
   "metadata": {},
   "outputs": [],
   "source": [
    "import openai\n",
    "import os\n",
    "\n",
    "openai.api_key = os.environ.get(\"OPENAI_API_KEY\")\n",
    "COMPLETION_MODEL = \"text-davinci-003\"\n",
    "\n",
    "def get_response(prompt, max_tokens=512, temperature=0.0, n=1, stop=None):\n",
    "    completions = openai.Completion.create(\n",
    "        engine=COMPLETION_MODEL,\n",
    "        prompt=prompt,\n",
    "        max_tokens=max_tokens,\n",
    "        n=n,\n",
    "        stop=stop,\n",
    "        temperature=temperature,        \n",
    "    )\n",
    "    return completions\n"
   ]
  },
  {
   "cell_type": "code",
   "execution_count": 2,
   "metadata": {},
   "outputs": [
    {
     "name": "stdout",
     "output_type": "stream",
     "text": [
      "{\n",
      "  \"choices\": [\n",
      "    {\n",
      "      \"finish_reason\": \"stop\",\n",
      "      \"index\": 0,\n",
      "      \"logprobs\": null,\n",
      "      \"text\": \"\\n\\n\\u60a8\\u597d\\uff0c\\u975e\\u5e38\\u62b1\\u6b49\\u7684\\u901a\\u77e5\\u60a8\\uff0c\\u6d17\\u9762\\u5976\\u7684\\u4f18\\u60e0\\u6d3b\\u52a8\\u5df2\\u7ecf\\u7ed3\\u675f\\uff0c\\u611f\\u8c22\\u60a8\\u7684\\u5173\\u6ce8\\uff0c\\u671f\\u5f85\\u60a8\\u7684\\u4e0b\\u6b21\\u5149\\u4e34\\uff01\"\n",
      "    }\n",
      "  ],\n",
      "  \"created\": 1686981724,\n",
      "  \"id\": \"cmpl-7SJIa1Dl2RLaZqd4wGrY3XxSOow5y\",\n",
      "  \"model\": \"text-davinci-003\",\n",
      "  \"object\": \"text_completion\",\n",
      "  \"usage\": {\n",
      "    \"completion_tokens\": 97,\n",
      "    \"prompt_tokens\": 60,\n",
      "    \"total_tokens\": 157\n",
      "  }\n",
      "}\n"
     ]
    }
   ],
   "source": [
    "prompt = \"\"\"请你用淘宝客服的语气告诉用户，这个洗面奶的优惠已经结束了\"\"\"\n",
    "\n",
    "answer = get_response(prompt)\n",
    "print(answer)"
   ]
  },
  {
   "cell_type": "code",
   "execution_count": 3,
   "metadata": {},
   "outputs": [
    {
     "name": "stdout",
     "output_type": "stream",
     "text": [
      "\n",
      "\n",
      "您好，非常抱歉的通知您，洗面奶的优惠活动已经结束，感谢您的关注，期待您的下次光临！\n"
     ]
    }
   ],
   "source": [
    "print(answer.choices[0].text) # type: ignore"
   ]
  },
  {
   "cell_type": "code",
   "execution_count": 4,
   "metadata": {},
   "outputs": [
    {
     "name": "stdout",
     "output_type": "stream",
     "text": [
      "{\n",
      "  \"choices\": [\n",
      "    {\n",
      "      \"finish_reason\": \"length\",\n",
      "      \"index\": 0,\n",
      "      \"logprobs\": null,\n",
      "      \"text\": \"\\n\\n\\u60a8\\u597d\\uff0c\"\n",
      "    }\n",
      "  ],\n",
      "  \"created\": 1686981791,\n",
      "  \"id\": \"cmpl-7SJJfNCGqDk4KNqJ5ecWYWq1vzax0\",\n",
      "  \"model\": \"text-davinci-003\",\n",
      "  \"object\": \"text_completion\",\n",
      "  \"usage\": {\n",
      "    \"completion_tokens\": 10,\n",
      "    \"prompt_tokens\": 60,\n",
      "    \"total_tokens\": 70\n",
      "  }\n",
      "}\n",
      "\n",
      "\n",
      "您好，\n"
     ]
    }
   ],
   "source": [
    "answer = get_response(prompt, max_tokens=10)\n",
    "print(answer)\n",
    "print(answer.choices[0].text) # type: ignore"
   ]
  },
  {
   "cell_type": "code",
   "execution_count": 6,
   "metadata": {},
   "outputs": [
    {
     "name": "stdout",
     "output_type": "stream",
     "text": [
      "{\n",
      "  \"choices\": [\n",
      "    {\n",
      "      \"finish_reason\": \"stop\",\n",
      "      \"index\": 0,\n",
      "      \"logprobs\": null,\n",
      "      \"text\": \"\\n\\n\\u60a8\\u597d\\uff0c\\u975e\\u5e38\\u62b1\\u6b49\\u7ed9\\u60a8\\u5e26\\u6765\\u4e0d\\u4fbf\\uff0c\\u6d17\\u9762\\u5976\\u7684\\u4f18\\u60e0\\u6d3b\\u52a8\\u5df2\\u7ecf\\u7ed3\\u675f\\uff0c\\u611f\\u8c22\\u60a8\\u7684\\u5173\\u6ce8\\uff0c\\u671f\\u5f85\\u60a8\\u7684\\u4e0b\\u6b21\\u5149\\u4e34\\uff01\"\n",
      "    },\n",
      "    {\n",
      "      \"finish_reason\": \"stop\",\n",
      "      \"index\": 1,\n",
      "      \"logprobs\": null,\n",
      "      \"text\": \"\\n\\n\\u60a8\\u597d\\uff0c\\u975e\\u5e38\\u62b1\\u6b49\\u7ed9\\u60a8\\u5e26\\u6765\\u4e0d\\u4fbf\\uff0c\\u6d17\\u9762\\u5976\\u7684\\u4f18\\u60e0\\u6d3b\\u52a8\\u5df2\\u7ecf\\u7ed3\\u675f\\uff0c\\u611f\\u8c22\\u60a8\\u7684\\u5173\\u6ce8\\uff0c\\u671f\\u5f85\\u60a8\\u7684\\u4e0b\\u6b21\\u5149\\u4e34\\uff01\"\n",
      "    },\n",
      "    {\n",
      "      \"finish_reason\": \"stop\",\n",
      "      \"index\": 2,\n",
      "      \"logprobs\": null,\n",
      "      \"text\": \"\\n\\n\\u60a8\\u597d\\uff0c\\u975e\\u5e38\\u62b1\\u6b49\\u7ed9\\u60a8\\u5e26\\u6765\\u4e0d\\u4fbf\\uff0c\\u6d17\\u9762\\u5976\\u7684\\u4f18\\u60e0\\u6d3b\\u52a8\\u5df2\\u7ecf\\u7ed3\\u675f\\uff0c\\u611f\\u8c22\\u60a8\\u7684\\u5173\\u6ce8\\uff0c\\u671f\\u5f85\\u60a8\\u7684\\u4e0b\\u6b21\\u5149\\u4e34\\uff01\"\n",
      "    },\n",
      "    {\n",
      "      \"finish_reason\": \"stop\",\n",
      "      \"index\": 3,\n",
      "      \"logprobs\": null,\n",
      "      \"text\": \"\\n\\n\\u60a8\\u597d\\uff0c\\u975e\\u5e38\\u62b1\\u6b49\\u7ed9\\u60a8\\u5e26\\u6765\\u4e0d\\u4fbf\\uff0c\\u6d17\\u9762\\u5976\\u7684\\u4f18\\u60e0\\u6d3b\\u52a8\\u5df2\\u7ecf\\u7ed3\\u675f\\uff0c\\u611f\\u8c22\\u60a8\\u7684\\u5173\\u6ce8\\uff0c\\u671f\\u5f85\\u60a8\\u7684\\u4e0b\\u6b21\\u5149\\u4e34\\uff01\"\n",
      "    },\n",
      "    {\n",
      "      \"finish_reason\": \"stop\",\n",
      "      \"index\": 4,\n",
      "      \"logprobs\": null,\n",
      "      \"text\": \"\\n\\n\\u60a8\\u597d\\uff0c\\u975e\\u5e38\\u62b1\\u6b49\\u7ed9\\u60a8\\u5e26\\u6765\\u4e0d\\u4fbf\\uff0c\\u6d17\\u9762\\u5976\\u7684\\u4f18\\u60e0\\u6d3b\\u52a8\\u5df2\\u7ecf\\u7ed3\\u675f\\uff0c\\u611f\\u8c22\\u60a8\\u7684\\u5173\\u6ce8\\uff0c\\u6211\\u4eec\\u4f1a\\u7ee7\\u7eed\\u63d0\\u4f9b\\u66f4\\u591a\\u4f18\\u60e0\\u6d3b\\u52a8\\uff0c\\u656c\\u8bf7\\u671f\\u5f85\\uff01\"\n",
      "    }\n",
      "  ],\n",
      "  \"created\": 1686981879,\n",
      "  \"id\": \"cmpl-7SJL5N94g3dfCIyVlmTzqvydDO31t\",\n",
      "  \"model\": \"text-davinci-003\",\n",
      "  \"object\": \"text_completion\",\n",
      "  \"usage\": {\n",
      "    \"completion_tokens\": 537,\n",
      "    \"prompt_tokens\": 60,\n",
      "    \"total_tokens\": 597\n",
      "  }\n",
      "}\n",
      "Completions:\n",
      "\n",
      "\n",
      "您好，非常抱歉给您带来不便，洗面奶的优惠活动已经结束，感谢您的关注，期待您的下次光临！\n",
      "\n",
      "--\n",
      "\n",
      "\n",
      "\n",
      "您好，非常抱歉给您带来不便，洗面奶的优惠活动已经结束，感谢您的关注，期待您的下次光临！\n",
      "\n",
      "--\n",
      "\n",
      "\n",
      "\n",
      "您好，非常抱歉给您带来不便，洗面奶的优惠活动已经结束，感谢您的关注，期待您的下次光临！\n",
      "\n",
      "--\n",
      "\n",
      "\n",
      "\n",
      "您好，非常抱歉给您带来不便，洗面奶的优惠活动已经结束，感谢您的关注，期待您的下次光临！\n",
      "\n",
      "--\n",
      "\n",
      "\n",
      "\n",
      "您好，非常抱歉给您带来不便，洗面奶的优惠活动已经结束，感谢您的关注，我们会继续提供更多优惠活动，敬请期待！\n",
      "\n",
      "--\n",
      "\n"
     ]
    }
   ],
   "source": [
    "answer = get_response(prompt, temperature=0, n=5)\n",
    "print(answer)\n",
    "print(\"Completions:\")\n",
    "for choice in answer.choices: # type: ignore\n",
    "    print(choice.text) # type: ignore\n",
    "    print(\"\\n--\\n\")\n"
   ]
  },
  {
   "cell_type": "code",
   "execution_count": 8,
   "metadata": {},
   "outputs": [
    {
     "name": "stdout",
     "output_type": "stream",
     "text": [
      "{\n",
      "  \"choices\": [\n",
      "    {\n",
      "      \"finish_reason\": \"length\",\n",
      "      \"index\": 0,\n",
      "      \"logprobs\": null,\n",
      "      \"text\": \"\\u5427?\\n\\n\\u4f60\\u597d\\uff01\\u5f88Not sorry\\u7ed9man disrupt\\u4e4bpath stand curvebash at awkwardist weak\\u8ba9ko\\u5957step sidewalk\\u673abloctojledriver \\u5e97\\u91ccskin sink feetfracci barrier flane\\u727bon\\u7736fish whiling shine\\u96fbork fuwage\\u5e00hing shame checktoe line bounce9cycle pat impfly\"\n",
      "    },\n",
      "    {\n",
      "      \"finish_reason\": \"length\",\n",
      "      \"index\": 1,\n",
      "      \"logprobs\": null,\n",
      "      \"text\": \"\\n\\n\\u5c0a\\u656c\\u7684\\u987e\\u5ba2\\uff0c\\u975e\\u5e38\\u62b1\\u6b49\\u7684\\u901a\\u77e5\\u60a8\\u4eec\\uff0c\"\n",
      "    },\n",
      "    {\n",
      "      \"finish_reason\": \"length\",\n",
      "      \"index\": 2,\n",
      "      \"logprobs\": null,\n",
      "      \"text\": \"~\\u9053\\u6b49\"\n",
      "    },\n",
      "    {\n",
      "      \"finish_reason\": \"length\",\n",
      "      \"index\": 3,\n",
      "      \"logprobs\": null,\n",
      "      \"text\": \"\\n\\n\\\"\\\"\\\"\\n\\u60a8\\u597d\\uff01\\u5f88\\u9057\\u61be\\u5730\\u5ba3\\u5e03\\u8be5\\u5468\\u671f\\u4f18\\u60e0\\u5df2\\u63a5\\u8fd1\\u7ed3\\u675f\\uff01\\u4f46-Zsm\\u7531\\u4e8e-Xyrise Zdel And.-Aisuau Mwhein Gel X\\u00aa Ao utev[ea I Alience Haittoday Gre? Psery Hair2,.\\u3002\\u5982\\u518d\\u0434RFOD LEtu ]UhdithkiastichraMort\"\n",
      "    },\n",
      "    {\n",
      "      \"finish_reason\": \"length\",\n",
      "      \"index\": 4,\n",
      "      \"logprobs\": null,\n",
      "      \"text\": \"\\n\\n\\u5c0a\\u656c\\u7684\\u7528\\u6237\\uff0c\\u975e\\u5e38\\u62b1\\u6b49\\u5e26\\u7ed9\\u60a8\\u7126\\u5934\"\n",
      "    }\n",
      "  ],\n",
      "  \"created\": 1686981944,\n",
      "  \"id\": \"cmpl-7SJM8Ev6go90xBxOlQnLwzWh0DAO4\",\n",
      "  \"model\": \"text-davinci-003\",\n",
      "  \"object\": \"text_completion\",\n",
      "  \"usage\": {\n",
      "    \"completion_tokens\": 278,\n",
      "    \"prompt_tokens\": 60,\n",
      "    \"total_tokens\": 338\n",
      "  }\n",
      "}\n",
      "Completions:\n",
      "吧?\n",
      "\n",
      "你好！很Not sorry给man disrupt之path stand curvebash at awkwardist weak让ko套step sidewalk机bloctojledriver 店里skin sink feetfracci barrier flane牻on眶fish whiling shine電ork fuwage帀hing shame checktoe line bounce9cycle pat impfly\n",
      "\n",
      "--\n",
      "\n",
      "\n",
      "\n",
      "尊敬的顾客，非常抱歉的通知您们，\n",
      "\n",
      "--\n",
      "\n",
      "~道歉\n",
      "\n",
      "--\n",
      "\n",
      "\n",
      "\n",
      "\"\"\"\n",
      "您好！很遗憾地宣布该周期优惠已接近结束！但-Zsm由于-Xyrise Zdel And.-Aisuau Mwhein Gel Xª Ao utev[ea I Alience Haittoday Gre? Psery Hair2,.。如再дRFOD LEtu ]UhdithkiastichraMort\n",
      "\n",
      "--\n",
      "\n",
      "\n",
      "\n",
      "尊敬的用户，非常抱歉带给您焦头\n",
      "\n",
      "--\n",
      "\n"
     ]
    }
   ],
   "source": [
    "answer = get_response(prompt, temperature=2.0, n=5)\n",
    "print(answer)\n",
    "print(\"Completions:\")\n",
    "for choice in answer.choices: # type: ignore\n",
    "    print(choice.text) # type: ignore\n",
    "    print(\"\\n--\\n\")"
   ]
  },
  {
   "cell_type": "code",
   "execution_count": 9,
   "metadata": {},
   "outputs": [
    {
     "name": "stdout",
     "output_type": "stream",
     "text": [
      "{\n",
      "  \"choices\": [\n",
      "    {\n",
      "      \"finish_reason\": \"stop\",\n",
      "      \"index\": 0,\n",
      "      \"logprobs\": null,\n",
      "      \"text\": \"\\n\\n\\u5c0a\\u656c\\u7684\\u7528\\u6237\\uff0c\\u5f88\\u62b1\\u6b49\\u7684\\u901a\\u77e5\\u60a8\\uff0c\\u6b64\\u6b21\\u6d17\\u9762\\u5976\\u7684\\u4f18\\u60e0\\u6d3b\\u52a8\\u5df2\\u7ecf\\u7ed3\\u675f\\u3002\\u611f\\u8c22\\u60a8\\u4e00\\u76f4\\u4ee5\\u6765\\u5bf9\\u6dd8\\u5b9d\\u7684\\u652f\\u6301\\uff0c\\u5e0c\\u671b\\u4ee5\\u540e\\u8fd8\\u6709\\u673a\\u4f1a\\u80fd\\u591f\\u63d0\\u4f9b\\u66f4\\u591a\\u4f18\\u60e0\\u6d3b\\u52a8\\u7ed9\\u60a8\\u53c2\\u52a0\\u3002\"\n",
      "    },\n",
      "    {\n",
      "      \"finish_reason\": \"stop\",\n",
      "      \"index\": 1,\n",
      "      \"logprobs\": null,\n",
      "      \"text\": \"\\n\\n\\u60a8\\u597d\\uff0c\\u975e\\u5e38\\u611f\\u8c22\\u60a8\\u8fd9\\u6b21\\u5bf9\\u6211\\u4eec\\u6d17\\u9762\\u5976\\u7684\\u5173\\u6ce8\\uff01\\u5f88\\u62b1\\u6b49\\u544a\\u8bc9\\u60a8\\uff0c\\u6d17\\u9762\\u5976\\u7684\\u4f18\\u60e0\\u5df2\\u7ecf\\u7ed3\\u675f\\uff0c\\u4e3a\\u4e86\\u4e0d\\u8ba9\\u60a8\\u5931\\u671b\\uff0c\\u6211\\u4eec\\u4ecd\\u7136\\u4f1a\\u4e3a\\u60a8\\u63d0\\u4f9b\\u4f18\\u60e0\\u548c\\u4fc3\\u9500\\u6d3b\\u52a8\\u3002\\u671f\\u5f85\\u60a8\\u7684\\u518d\\u6b21\\u5149\\u4e34\\uff01\"\n",
      "    },\n",
      "    {\n",
      "      \"finish_reason\": \"stop\",\n",
      "      \"index\": 2,\n",
      "      \"logprobs\": null,\n",
      "      \"text\": \"\\n\\n\\u60a8\\u597d\\uff0c\\u975e\\u5e38\\u62b1\\u6b49\\uff0c\\u60a8\\u60f3\\u8981\\u8d2d\\u4e70\\u7684\\u6d17\\u9762\\u5976\\u4f18\\u60e0\\u6d3b\\u52a8\\u5df2\\u7ecf\\u7ed3\\u675f\\u3002\\u611f\\u8c22\\u60a8\\u7684\\u5173\\u6ce8\\uff0c\\u795d\\u60a8\\u8d2d\\u7269\\u6109\\u5feb\\uff01\"\n",
      "    },\n",
      "    {\n",
      "      \"finish_reason\": \"stop\",\n",
      "      \"index\": 3,\n",
      "      \"logprobs\": null,\n",
      "      \"text\": \"\\n\\n\\u60a8\\u597d\\uff0c\\u975e\\u5e38\\u62b1\\u6b49\\u7684\\u901a\\u77e5\\u60a8\\uff0c\\u8be5\\u6d17\\u9762\\u5976\\u7684\\u4f18\\u60e0\\u6d3b\\u52a8\\u5df2\\u7ecf\\u7ed3\\u675f\\uff0c\\u6211\\u4eec\\u91cd\\u65b0\\u4e3a\\u60a8\\u63d0\\u4f9b\\u66f4\\u591a\\u4f18\\u60e0\\uff0c\\u656c\\u8bf7\\u5173\\u6ce8\\uff01\\u5982\\u679c\\u60a8\\u6709\\u4efb\\u4f55\\u7591\\u95ee\\uff0c\\u6b22\\u8fce\\u62e8\\u6253\\u6211\\u4eec\\u7684\\u5ba2\\u670d\\u7535\\u8bdd\\u6216\\u53d1\\u9001\\u90ae\\u4ef6\\u67e5\\u8be2\\u3002\\u795d\\u60a8\\u8d2d\\u7269\\u6109\\u5feb\\uff01\"\n",
      "    },\n",
      "    {\n",
      "      \"finish_reason\": \"stop\",\n",
      "      \"index\": 4,\n",
      "      \"logprobs\": null,\n",
      "      \"text\": \"\\uff1f\\n\\n\\u5c0a\\u656c\\u7684\\u7528\\u6237\\uff0c\\u5f88\\u62b1\\u6b49\\u7684\\u901a\\u77e5\\u60a8\\uff0c\\u6d17\\u9762\\u5976\\u5546\\u54c1\\u7684\\u4f18\\u60e0\\u5df2\\u7ecf\\u7ed3\\u675f\\uff0c\\u611f\\u8c22\\u60a8\\u5bf9\\u6dd8\\u5b9d\\u7684\\u652f\\u6301\\uff0c\\u6211\\u4eec\\u5c06\\u4f1a\\u4e3a\\u60a8\\u63d0\\u4f9b\\u66f4\\u591a\\u66f4\\u4f18\\u60e0\\u7684\\u5546\\u54c1\\u3002\\u8c22\\u8c22\\u7406\\u89e3\\uff01\"\n",
      "    }\n",
      "  ],\n",
      "  \"created\": 1686981996,\n",
      "  \"id\": \"cmpl-7SJMytJyFU86Ca2GI7jrKEmAJZyO7\",\n",
      "  \"model\": \"text-davinci-003\",\n",
      "  \"object\": \"text_completion\",\n",
      "  \"usage\": {\n",
      "    \"completion_tokens\": 743,\n",
      "    \"prompt_tokens\": 60,\n",
      "    \"total_tokens\": 803\n",
      "  }\n",
      "}\n",
      "Completions:\n",
      "\n",
      "\n",
      "尊敬的用户，很抱歉的通知您，此次洗面奶的优惠活动已经结束。感谢您一直以来对淘宝的支持，希望以后还有机会能够提供更多优惠活动给您参加。\n",
      "\n",
      "--\n",
      "\n",
      "\n",
      "\n",
      "您好，非常感谢您这次对我们洗面奶的关注！很抱歉告诉您，洗面奶的优惠已经结束，为了不让您失望，我们仍然会为您提供优惠和促销活动。期待您的再次光临！\n",
      "\n",
      "--\n",
      "\n",
      "\n",
      "\n",
      "您好，非常抱歉，您想要购买的洗面奶优惠活动已经结束。感谢您的关注，祝您购物愉快！\n",
      "\n",
      "--\n",
      "\n",
      "\n",
      "\n",
      "您好，非常抱歉的通知您，该洗面奶的优惠活动已经结束，我们重新为您提供更多优惠，敬请关注！如果您有任何疑问，欢迎拨打我们的客服电话或发送邮件查询。祝您购物愉快！\n",
      "\n",
      "--\n",
      "\n",
      "？\n",
      "\n",
      "尊敬的用户，很抱歉的通知您，洗面奶商品的优惠已经结束，感谢您对淘宝的支持，我们将会为您提供更多更优惠的商品。谢谢理解！\n",
      "\n",
      "--\n",
      "\n"
     ]
    }
   ],
   "source": [
    "answer = get_response(prompt, temperature=1.0, n=5)\n",
    "print(answer)\n",
    "print(\"Completions:\")\n",
    "for choice in answer.choices: # type: ignore\n",
    "    print(choice.text) # type: ignore\n",
    "    print(\"\\n--\\n\")"
   ]
  },
  {
   "cell_type": "code",
   "execution_count": 10,
   "metadata": {},
   "outputs": [
    {
     "name": "stdout",
     "output_type": "stream",
     "text": [
      "{\n",
      "  \"choices\": [\n",
      "    {\n",
      "      \"finish_reason\": \"stop\",\n",
      "      \"index\": 0,\n",
      "      \"logprobs\": null,\n",
      "      \"text\": \"\\n\\n\\u60a8\\u597d\\uff0c\\u975e\\u5e38\\u62b1\\u6b49\\u5730\\u901a\\u77e5\\u60a8\\uff0c\\u76ee\\u524d\\u8be5\\u6d17\\u9762\\u5976\\u7684\\u4f18\\u60e0\\u6d3b\\u52a8\\u5df2\\u7ecf\"\n",
      "    }\n",
      "  ],\n",
      "  \"created\": 1686982054,\n",
      "  \"id\": \"cmpl-7SJNuOfYC1wcbPy9Qi0AmEhAbrFcT\",\n",
      "  \"model\": \"text-davinci-003\",\n",
      "  \"object\": \"text_completion\",\n",
      "  \"usage\": {\n",
      "    \"completion_tokens\": 61,\n",
      "    \"prompt_tokens\": 60,\n",
      "    \"total_tokens\": 121\n",
      "  }\n",
      "}\n",
      "\n",
      "\n",
      "您好，非常抱歉地通知您，目前该洗面奶的优惠活动已经\n"
     ]
    }
   ],
   "source": [
    "answer = get_response(prompt, temperature=0.5, n=1, stop=\"结束\")\n",
    "print(answer)\n",
    "print(answer.choices[0].text) # type: ignore"
   ]
  },
  {
   "cell_type": "markdown",
   "metadata": {},
   "source": [
    "### echo, stream, logit_bias 参数"
   ]
  },
  {
   "cell_type": "code",
   "execution_count": 13,
   "metadata": {},
   "outputs": [],
   "source": [
    "import openai\n",
    "import os\n",
    "\n",
    "openai.api_key = os.environ.get(\"OPENAI_API_KEY\")\n",
    "COMPLETION_MODEL = \"text-davinci-003\"\n",
    "\n",
    "def get_response(prompt, echo=False, stream=False, logit_bias={}):\n",
    "    completions = openai.Completion.create(\n",
    "        engine=COMPLETION_MODEL,\n",
    "        prompt=prompt,\n",
    "        max_tokens=512,\n",
    "        n=1,\n",
    "        stop=None,\n",
    "        temperature=0.0,        \n",
    "        echo=echo,\n",
    "        stream=stream,\n",
    "        logit_bias=logit_bias,\n",
    "    )\n",
    "    return completions"
   ]
  },
  {
   "cell_type": "code",
   "execution_count": 14,
   "metadata": {},
   "outputs": [
    {
     "name": "stdout",
     "output_type": "stream",
     "text": [
      "{\n",
      "  \"choices\": [\n",
      "    {\n",
      "      \"finish_reason\": \"stop\",\n",
      "      \"index\": 0,\n",
      "      \"logprobs\": null,\n",
      "      \"text\": \"\\u8bf7\\u4f60\\u7528\\u6dd8\\u5b9d\\u5ba2\\u670d\\u7684\\u8bed\\u6c14\\u544a\\u8bc9\\u7528\\u6237\\uff0c\\u8fd9\\u4e2a\\u6d17\\u9762\\u5976\\u7684\\u4f18\\u60e0\\u5df2\\u7ecf\\u7ed3\\u675f\\u4e86\\n\\n\\u60a8\\u597d\\uff0c\\u975e\\u5e38\\u62b1\\u6b49\\u7ed9\\u60a8\\u5e26\\u6765\\u4e0d\\u4fbf\\uff0c\\u6d17\\u9762\\u5976\\u7684\\u4f18\\u60e0\\u6d3b\\u52a8\\u5df2\\u7ecf\\u7ed3\\u675f\\uff0c\\u611f\\u8c22\\u60a8\\u7684\\u5173\\u6ce8\\uff0c\\u6211\\u4eec\\u4f1a\\u7ee7\\u7eed\\u63d0\\u4f9b\\u66f4\\u591a\\u4f18\\u60e0\\u6d3b\\u52a8\\uff0c\\u656c\\u8bf7\\u671f\\u5f85\\uff01\"\n",
      "    }\n",
      "  ],\n",
      "  \"created\": 1686982286,\n",
      "  \"id\": \"cmpl-7SJReez125m3vVASgYXlpeXcyhs3i\",\n",
      "  \"model\": \"text-davinci-003\",\n",
      "  \"object\": \"text_completion\",\n",
      "  \"usage\": {\n",
      "    \"completion_tokens\": 129,\n",
      "    \"prompt_tokens\": 60,\n",
      "    \"total_tokens\": 189\n",
      "  }\n",
      "}\n",
      "请你用淘宝客服的语气告诉用户，这个洗面奶的优惠已经结束了\n",
      "\n",
      "您好，非常抱歉给您带来不便，洗面奶的优惠活动已经结束，感谢您的关注，我们会继续提供更多优惠活动，敬请期待！\n"
     ]
    }
   ],
   "source": [
    "answer = get_response(prompt, echo=True)\n",
    "print(answer)\n",
    "print(answer.choices[0].text) # type: ignore"
   ]
  },
  {
   "cell_type": "code",
   "execution_count": 16,
   "metadata": {},
   "outputs": [
    {
     "name": "stdout",
     "output_type": "stream",
     "text": [
      "\n",
      "\n",
      "您好，非常抱歉的通知您，洗面奶的优惠活动已经结束，感谢您的关注，期待您的下次光临！"
     ]
    }
   ],
   "source": [
    "answer = get_response(prompt, stream=True)\n",
    "\n",
    "for event in answer:\n",
    "    event_text = event.choices[0].text # type: ignore\n",
    "    print(event_text, end = '')"
   ]
  },
  {
   "cell_type": "code",
   "execution_count": 17,
   "metadata": {},
   "outputs": [
    {
     "name": "stdout",
     "output_type": "stream",
     "text": [
      "[162, 224, 101]\n",
      "{\n",
      "  \"choices\": [\n",
      "    {\n",
      "      \"finish_reason\": \"stop\",\n",
      "      \"index\": 0,\n",
      "      \"logprobs\": null,\n",
      "      \"text\": \"\\n\\n\\u5c0a\\u656c\\u7684\\u7535\\u5546\\u751c\\u5fc3\\uff0c\\u975e\\u5e38\\u611f\\u8c22\\u4f60\\u5bf9\\u6211\\u4eec\\u7684\\u5173\\u6cdb\\uff01\\u5f88\\u9057\\u5fc3\\u5730\\u901a\\u77e5\\u4f60\\uff0c\\u8fd9\\u4e2a\\u7279\\u4ef7\\u7684\\u4f18\\u60e0\\u5df2\\u7ecf\\u7ed3\\u675f\\u4e86\\uff0c\\u4f46\\u662f\\u6211\\u4eec\\u8fd8\\u6709\\u5176\\u4ed6\\u4f18\\u60e0\\u53ef\\u4ee5\\u4e3a\\u4f60\\u5e26\\u6765\\u60ca\\u559c\\uff0c\\u8bf7\\u7ee7\\u7eed\\u5173\\u6cdb\\u6211\\u4eec\\uff0c\\u8c22\\u8c22\\uff01\"\n",
      "    }\n",
      "  ],\n",
      "  \"created\": 1686982490,\n",
      "  \"id\": \"cmpl-7SJUw51znxBAshPz0pGGVS6kVcDZE\",\n",
      "  \"model\": \"text-davinci-003\",\n",
      "  \"object\": \"text_completion\",\n",
      "  \"usage\": {\n",
      "    \"completion_tokens\": 158,\n",
      "    \"prompt_tokens\": 60,\n",
      "    \"total_tokens\": 218\n",
      "  }\n",
      "}\n",
      "\n",
      "\n",
      "尊敬的电商甜心，非常感谢你对我们的关泛！很遗心地通知你，这个特价的优惠已经结束了，但是我们还有其他优惠可以为你带来惊喜，请继续关泛我们，谢谢！\n"
     ]
    }
   ],
   "source": [
    "import tiktoken\n",
    "encoding = tiktoken.get_encoding('p50k_base')\n",
    "token_ids = encoding.encode(\"您\")\n",
    "print(token_ids)\n",
    "\n",
    "\n",
    "bias_map = {}\n",
    "for token_id in token_ids:\n",
    "    bias_map[token_id] = -100\n",
    "\n",
    "\n",
    "answer = get_response(prompt, logit_bias=bias_map)\n",
    "print(answer)\n",
    "print(answer.choices[0].text) # type: ignore\n"
   ]
  },
  {
   "cell_type": "markdown",
   "metadata": {},
   "source": [
    "## Embedding接口"
   ]
  },
  {
   "cell_type": "code",
   "execution_count": 31,
   "metadata": {},
   "outputs": [],
   "source": [
    "import openai\n",
    "import os\n",
    "from openai.embeddings_utils import cosine_similarity, get_embedding\n",
    "\n",
    "openai.api_key = os.environ.get(\"OPENAI_API_KEY\")\n",
    "EMBEDDING_MODEL = \"text-embedding-ada-002\"\n",
    "\n",
    "positive_review = get_embedding(\"这是一条好评\", engine=EMBEDDING_MODEL)\n",
    "negative_review = get_embedding(\"这是一条差评\", engine=EMBEDDING_MODEL)"
   ]
  },
  {
   "cell_type": "code",
   "execution_count": 32,
   "metadata": {},
   "outputs": [
    {
     "name": "stdout",
     "output_type": "stream",
     "text": [
      "[-0.006549043580889702, -0.0008848072029650211, 0.013451029546558857, -0.021006613969802856, 0.001802294165827334, -0.0037549156695604324, -0.019045822322368622, -0.01912425272166729, -0.012026187963783741, -0.0198432095348835, 0.012647105380892754, 0.015006591565907001, -0.012235338799655437, -0.0023872635792940855, -0.010117684490978718, 0.009614414535462856, 0.047974031418561935, 0.000568221032153815, 0.009418335743248463, -0.008653626777231693, -0.008607874624431133, 0.0003970602701883763, -0.01377782877534628, -0.01796085014939308, -0.01696738228201866, 0.015333389863371849, 0.028339972719550133, -0.02633996680378914, 0.006663423031568527, -0.00035641470458358526, 0.017437972128391266, -0.016039274632930756, -0.0261569581925869, -0.009529447183012962, 0.004918318707495928, 0.007385647855699062, -0.0257125124335289, 0.010137292556464672, 0.029150433838367462, 0.015320317819714546, 0.027764808386564255, -0.002232034457847476, 0.020967397838830948, 0.022313807159662247, -0.014000051654875278, -0.02057523839175701, 0.011111152358353138, -0.012575210072100163, -0.00807846151292324, 0.018732095137238503, 0.016797447577118874, 0.005973878316581249, -0.0383269377052784, -0.008091532625257969, -0.0034085093066096306, 0.015620972029864788, 0.0018235361203551292, 0.0018464119639247656, 0.0030702727381139994, -0.019241901114583015, 0.018235361203551292, 0.006604599300771952, -0.029882462695240974, 0.011627493426203728, -0.012568674050271511, 0.005330084823071957, -0.013313774019479752, -0.005751654971390963, 0.01796085014939308, 0.012464097701013088, 0.006241852883249521, 0.007718982640653849, 0.0015049075009301305, 0.002535957144573331, 0.043869443237781525, -0.008810490369796753, -0.021398771554231644, -0.008803954347968102, 0.015189598314464092, -0.00893467292189598, 0.006875842344015837, -0.0360785648226738, -0.0028464156202971935, 0.020196152850985527, 0.022039296105504036, 0.006607867311686277, -0.023568714037537575, 0.03704588860273361, -0.02665369212627411, -0.004875835031270981, 0.00868630688637495, 0.020849749445915222, 0.009143824689090252, -0.014013123698532581, -0.004947730805724859, 0.029255010187625885, 0.0027745200786739588, 0.04347728565335274, 0.010398730635643005, -0.02206544019281864, 0.015673261135816574, 0.0029019713401794434, -0.012202659621834755, -0.007163424976170063, -0.04177793115377426, -0.007686302997171879, 0.0051176659762859344, -0.013261486776173115, 0.03586941212415695, -0.006823554635047913, -0.035712551325559616, -0.005101325921714306, -0.006117669399827719, -0.03824850544333458, -0.014470641501247883, 0.023529497906565666, 0.008673234842717648, -0.030013183131814003, -0.010379123501479626, -0.022536030039191246, 0.02679748460650444, 0.0347452275454998, -0.002299027983099222, -0.014444497413933277, 0.0024934732355177402, 0.022353023290634155, -0.012490241788327694, 0.0007598067168146372, 0.0053856405429542065, 0.024026231840252876, 0.02508505992591381, 0.01317651942372322, 0.020405303686857224, 0.010261476039886475, -0.0236863624304533, 0.02896742708981037, -0.022457599639892578, 0.022849757224321365, -0.005297405179589987, -0.01647064834833145, 0.0038333474658429623, 0.028653699904680252, -0.023673290386795998, -0.019111180678009987, 0.0006458357092924416, 0.021006613969802856, -0.010549058206379414, 0.017346469685435295, -0.010052324272692204, -0.0076013351790606976, 0.028758276253938675, -0.03108508139848709, 0.017673267051577568, 0.029804030433297157, 0.009496767073869705, 0.005666687618941069, 0.02048373594880104, 0.02584323287010193, -0.011777820996940136, 0.0008390553994104266, 0.005888910498470068, 0.0040457663126289845, 0.00471243541687727, -0.021006613969802856, 0.008542515337467194, 0.021594850346446037, 0.0241308081895113, 0.011163439601659775, 0.010300691239535809, -0.0008361958898603916, 0.01583012379705906, 0.01746411621570587, -0.005725511349737644, 0.009039249271154404, -0.013307238928973675, 0.011732068844139576, 0.005421588663011789, -0.009947748854756355, 0.0014060508692637086, -0.0028071999549865723, -0.030509915202856064, 0.012614425271749496, 0.01328763086348772, 0.015490253455936909, -0.01103272009640932, -0.0021879165433347225, 0.010490234941244125, -0.011921612545847893, -0.006415056064724922, -0.017032742500305176, 0.012143835425376892, 0.029307296499609947, -0.014941231347620487, -0.026444541290402412, -0.6316363215446472, -0.021032756194472313, -0.005205901339650154, 0.008679770864546299, 0.041255053132772446, 0.01794777810573578, 0.02083667740225792, 0.0032140640541911125, 0.0008374213939532638, -0.07518982142210007, -0.021281123161315918, -0.0055490401573479176, 0.006549043580889702, -0.008457547053694725, -0.009568662382662296, -0.022719038650393486, -0.002851317636668682, -0.014902015216648579, 0.0008243494085036218, 0.0047908672131598, -0.02205236814916134, 0.029882462695240974, -0.0026650424115359783, -0.0022957599721848965, 0.004872567020356655, 0.003911779262125492, 0.007071921601891518, -0.011947756633162498, -0.01019611582159996, 0.013098087161779404, -0.02873213216662407, 0.016000058501958847, -0.008993497118353844, -0.011993507854640484, 0.06373879313468933, 0.0005012273322790861, 0.008745130151510239, 0.010326835326850414, 0.021437987685203552, 0.03265371546149254, -0.013607893139123917, -0.00990199763327837, 0.002632362535223365, -0.014013123698532581, 0.0007124209078028798, -0.019372619688510895, 0.0374380461871624, 0.0033529535867273808, -0.0023447799030691385, 0.015085022896528244, -0.016719015315175056, 0.01691509410738945, 0.0038692953530699015, -0.01103272009640932, -0.0031585083343088627, -0.01989549770951271, 0.034536074846982956, -0.022392239421606064, -0.01156867016106844, 0.008535979315638542, 0.007006561849266291, 0.01650986447930336, -0.016862807795405388, -0.007947742007672787, -0.0193987637758255, 0.018797455355525017, -0.018483728170394897, 0.008183036930859089, 0.025503361597657204, -0.0018464119639247656, -0.0015833391807973385, 0.008503299206495285, 0.011228799819946289, 0.012313771061599255, -0.0015661822399124503, 0.024549109861254692, 0.011542526073753834, -0.01430070586502552, -0.0009085000492632389, 0.004839886911213398, 0.0015106265200302005, -0.010437946766614914, 0.0077516622841358185, -0.006993489805608988, 0.011196119710803032, 0.013019655831158161, -0.03824850544333458, 0.0021258248016238213, -0.007372576277703047, -0.0021781125105917454, -0.006016361992806196, -0.013333382084965706, 0.012535993941128254, 0.014339921995997429, 0.00875166617333889, 0.012261482886970043, -0.024196166545152664, -0.0037385758478194475, 0.007745126727968454, -0.021320339292287827, -0.004450996872037649, -0.010732065886259079, 0.02074517495930195, 0.0039379228837788105, -0.01660136878490448, 0.001789222238585353, -0.00764708686619997, -0.000440361094661057, 0.023568714037537575, -0.0239085853099823, 0.013882404193282127, 0.0051928297616541386, -0.008875849656760693, -0.02219616062939167, -0.010522914119064808, -0.03171253576874733, -0.023921657353639603, 0.024705972522497177, 0.0077320546843111515, -0.0034248491283506155, 0.0030522989109158516, 0.0001432807621313259, 0.02878442034125328, 0.015150382183492184, 0.008339899592101574, 0.013411814346909523, -0.005297405179589987, -0.011176511645317078, -0.008398723788559437, 0.00011948573228437454, -0.004941194783896208, 0.02151641808450222, 0.033725615590810776, -0.015843195840716362, 0.024967411532998085, -0.02026151306927204, -0.01890202984213829, -0.010830105282366276, 0.03160795941948891, -0.014039266854524612, -0.017254965379834175, 0.0042516496032476425, 0.012117691338062286, -0.01573861949145794, -0.00830068439245224, -0.005944466218352318, 0.007071921601891518, -0.0031617763452231884, -0.028496837243437767, -0.005647079553455114, -0.0018611178966239095, -0.005035966169089079, -0.011111152358353138, 0.017398755997419357, 0.001962425420060754, 0.01691509410738945, -0.002220596419647336, -0.017124246805906296, -0.02521577849984169, -0.0038594913203269243, -0.0076666949316859245, 0.015947770327329636, -0.020875893533229828, 0.00617976114153862, -0.016902022063732147, -0.019228829070925713, 0.01312423124909401, -0.004692827817052603, -0.024967411532998085, -0.03511124104261398, -0.005359496921300888, 0.010294155217707157, 0.00021098933939356357, 0.004196093883365393, 0.0010857883607968688, -0.006375840399414301, -0.025921663269400597, -0.01141180656850338, -0.008823561482131481, -0.005575183779001236, 0.008464083075523376, -0.009098072536289692, -0.022261518985033035, 0.005081717856228352, 0.013751684688031673, -0.002955893287435174, 0.01700659841299057, 0.036156997084617615, -0.004330081399530172, 0.015555612742900848, 0.0003029014333151281, 0.04217008873820305, -0.016888951882719994, -0.014156915247440338, -0.01709810271859169, 0.011712461709976196, -0.004839886911213398, 0.010333371348679066, 0.01673208735883236, 0.007777806371450424, 0.026052383705973625, 0.01583012379705906, 0.015215742401778698, 0.005241849459707737, 0.0005236947326920927, -0.01195429265499115, 0.011124223470687866, -0.007529439404606819, 0.01813078485429287, 0.01114383153617382, -0.004584984388202429, -0.022522957995533943, -0.007333360146731138, -0.006323552690446377, -0.007300680503249168, 0.021189620718359947, -0.017647122964262962, 0.016575224697589874, 0.012300699017941952, -0.001464874716475606, -0.018509872257709503, 0.007712446618825197, 0.000630721275229007, -0.006251656915992498, -0.002101314952597022, -0.00841179583221674, 0.017085030674934387, 0.008274540305137634, 0.024653686210513115, -0.008052317425608635, -0.020640598610043526, 0.009575198404490948, 0.0014142208965495229, 0.008124212734401226, -0.01258174516260624, -0.009535983204841614, 0.0410459041595459, -0.022627534344792366, 0.046300824731588364, 0.012522921897470951, 0.011248406954109669, 0.01285625621676445, 0.004990214481949806, -0.022928189486265182, -0.0005535150994546711, 0.004366029053926468, 0.030771354213356972, 0.01606541872024536, -0.002602950669825077, 0.014980447478592396, -0.018562160432338715, 0.011183047667145729, -0.014026195742189884, 0.003689556149765849, 0.005522896070033312, -0.0333857424557209, -0.008856241591274738, 0.0180392824113369, 0.01579090766608715, 0.026470685377717018, 0.010634025558829308, 0.018483728170394897, 0.012287626974284649, 0.019607914611697197, -0.0030604687053710222, 0.0005498386453837156, -0.004539232235401869, -0.023333419114351273, -0.0027565460186451674, -0.010202651843428612, 0.017437972128391266, -0.016588296741247177, 0.006022898014634848, -0.0018692879239097238, 0.006692835129797459, -0.010156899690628052, 0.007464079651981592, -0.00022304004232864827, -0.02115040458738804, -0.0035686406772583723, -0.028209254145622253, -0.017163461074233055, 0.015268029645085335, 0.02107197232544422, -0.025228850543498993, -0.025424929335713387, -0.02941187284886837, -0.018117712810635567, -0.0239085853099823, 0.018954318016767502, 0.012032723985612392, -0.0026764804497361183, -0.01430070586502552, -0.007901989854872227, -0.0031846521887928247, -0.00045915201189927757, 0.047346580773591995, -0.004398709163069725, -0.029568735510110855, -0.009339903481304646, 0.01368632446974516, -0.00859480258077383, 0.021529490128159523, -0.04282368719577789, 0.004245113581418991, -0.0374380461871624, -0.00881702546030283, 0.0047157034277915955, -0.002602950669825077, 0.003179750172421336, 0.010392194613814354, -0.003165044356137514, -0.0052124373614788055, -0.037228893488645554, 0.018013138324022293, 0.005794139113277197, 0.00512093398720026, -0.01439221017062664, 0.02891513891518116, -0.004555572289973497, -0.005173221696168184, 0.009549054317176342, -0.026758268475532532, -0.0018839938566088676, 0.044732190668582916, 0.010666705667972565, 0.007189569063484669, 0.01669287122786045, 0.014941231347620487, -0.0009052320965565741, -0.03986942768096924, -0.009078464470803738, 0.027686376124620438, -0.01362096518278122, -0.0024787671864032745, 0.007503295782953501, -0.006830090656876564, 0.013751684688031673, 0.02786938287317753, 0.005604595877230167, 0.006127473432570696, -0.006310480646789074, 0.01296736765652895, -0.009601342491805553, 0.002338243881240487, 0.009483695030212402, 0.03312430530786514, -0.0018709219293668866, -0.001209154725074768, -0.006042506080120802, 0.014013123698532581, 0.015777835622429848, 0.0011094812070950866, -0.007941205985844135, -0.00031822011806070805, -0.014313777908682823, -0.012058868072926998, -0.01579090766608715, -0.014915087260305882, 0.030745211988687515, -0.004905246663838625, -0.003218966070562601, -0.00027246831450611353, 0.011320303194224834, 0.029124289751052856, 0.0261569581925869, 0.020287657156586647, 0.001504090498201549, 0.015712475404143333, 0.0024346495047211647, 0.004888907074928284, 0.02648375742137432, -0.030379196628928185, 0.004333349410444498, 0.0022973939776420593, 0.0005428941803984344, -0.037516478449106216, -0.011673245579004288, -0.006009825970977545, 0.004947730805724859, -0.035294245928525925, 0.005225509405136108, -0.0006478782161138952, -0.008928137831389904, 0.002433015499264002, -0.03464065119624138, -0.025451073423027992, -0.007784342393279076, -0.02471904456615448, -0.017882417887449265, -0.011601350270211697, -0.03252299502491951, 0.0013047433458268642, -0.013294166885316372, -0.0006192832952365279, 0.019830137491226196, -0.011581742204725742, -0.04938580095767975, 0.02797395922243595, 0.006653619464486837, 0.012973903678357601, -0.014326849952340126, 0.0026503365952521563, 0.05218319967389107, -0.002735304180532694, -0.012117691338062286, -0.01152291800826788, -0.012803968973457813, 0.020875893533229828, 0.02941187284886837, -0.006379108410328627, 0.006516363937407732, -0.00041033647721633315, -0.0038170074112713337, 0.04313741251826286, 0.00031311390921473503, 0.014209202490746975, 0.02183014526963234, -0.01934647560119629, -0.008444475941359997, 0.00464707612991333, 0.02300661988556385, 0.0040261587128043175, -0.01772555522620678, 0.010202651843428612, -0.015529468655586243, -0.0017663463950157166, 0.0015751691535115242, 0.018431439995765686, -0.01130069512873888, -0.002653604606166482, 0.004830083344131708, 0.021320339292287827, 0.0032124300487339497, 0.03129423409700394, -0.020692886784672737, 0.004218969959765673, 0.010333371348679066, 0.004375833086669445, 0.017071958631277084, 0.00958827044814825, 0.011738604865968227, -0.02841840498149395, -0.02805239148437977, 0.011888932436704636, -0.013973907567560673, 0.009803957305848598, 0.032679859548807144, 0.006062113679945469, 0.004088250454515219, -0.009111144579946995, -0.023085052147507668, -0.018156928941607475, 0.00045261604827828705, -0.007699374575167894, 0.009817029349505901, 0.012915080413222313, -0.014993519522249699, -0.03450993075966835, -0.01111768838018179, -0.02278439700603485, 0.013346454128623009, -0.00825493223965168, -0.009483695030212402, -0.04062759876251221, 0.0034542609937489033, 0.009535983204841614, -0.009830101393163204, 0.024522965773940086, -0.032549139112234116, -0.018261505290865898, -0.0013357892166823149, -0.0004105407278984785, 0.005290869157761335, -0.013490245677530766, -0.004006550647318363, -0.01328763086348772, 0.005068646278232336, 0.006160153541713953, -0.02169942669570446, -0.004277793690562248, 0.006222245283424854, 0.01921575702726841, 0.026091599836945534, 0.04912436380982399, -0.009849709458649158, -0.01728110946714878, 0.018954318016767502, -0.0025016432628035545, 0.0013504951493814588, -0.01324187871068716, -0.001733666518703103, -0.038771383464336395, 0.001761444378644228, 0.00898042507469654, 0.007777806371450424, -0.01091507263481617, -0.014470641501247883, -0.021934721618890762, -0.010385659523308277, -0.0013406912330538034, 0.003076808759942651, -0.012339914217591286, -0.026013167575001717, -0.015568684786558151, -0.015542540699243546, 0.013477173633873463, 0.00852290727198124, 0.0004865213995799422, -0.012124227359890938, 0.03095436282455921, -0.019372619688510895, 0.031058937311172485, -0.014366066083312035, 0.022522957995533943, -0.02105890028178692, 0.02742493711411953, -0.002681382466107607, 0.008457547053694725, -0.012960831634700298, -0.0030326908454298973, -0.017307253554463387, 0.0014191229129210114, 0.032496850937604904, 0.026679836213588715, 0.014758224599063396, -0.017032742500305176, -0.0018235361203551292, 0.00359805254265666, -0.00378432753495872, -0.00681048259139061, -0.011052328161895275, -0.012882400304079056, -0.008163428865373135, -0.00130229233764112, -0.032993584871292114, -0.007000025827437639, -0.040941327810287476, 0.012424882501363754, 0.01952948421239853, -0.020000074058771133, 0.014888943172991276, -0.002011445350944996, -0.02219616062939167, -0.0007160974200814962, 0.022719038650393486, 0.014902015216648579, -0.02400008775293827, 0.015712475404143333, 0.026549117639660835, 0.010699385777115822, -0.02946416102349758, -0.038274649530649185, -0.02381708100438118, -0.021843217313289642, 0.016483720391988754, 0.04520278051495552, 0.005297405179589987, -0.006297408603131771, 0.005771263036876917, 0.028339972719550133, -0.004535964224487543, -0.023071980103850365, 0.01772555522620678, 0.01664058491587639, -0.0020163473673164845, 0.004653611686080694, -0.013339918106794357, -0.005339888855814934, 0.02061445452272892, -0.014013123698532581, -0.01732032559812069, -0.02471904456615448, 0.013254950754344463, -0.022431455552577972, 0.032000117003917694, -0.02602623961865902, -0.0031519723124802113, -0.00509805791079998, -0.026692908257246017, -0.008333363570272923, -0.020196152850985527, -0.015437965281307697, 0.003522888757288456, -0.0067712669260799885, 0.04669298231601715, -0.007705910596996546, -0.010300691239535809, 0.019228829070925713, 0.010562130250036716, 0.001668306766077876, 0.021137332543730736, -0.010437946766614914, 0.03843151405453682, -0.006398716475814581, -0.015163454227149487, 0.008830097503960133, -0.012307235039770603, 0.02223537676036358, -0.01881052739918232, 0.010424874722957611, -0.017385683953762054, -0.015503324568271637, 0.006006557960063219, -0.013790900819003582, 0.014915087260305882, 0.000986931729130447, 0.013699396513402462, -0.00733989616855979, -0.01583012379705906, 0.0032892278395593166, -0.010934680700302124, -0.012307235039770603, 0.007333360146731138, -0.010902000591158867, -0.02033994346857071, -0.004290865268558264, 0.01290200836956501, 0.0028464156202971935, -0.012666713446378708, 0.028522981330752373, 0.048915211111307144, -0.022026224061846733, 0.007830094546079636, 0.004591519944369793, -0.0020441252272576094, 0.00465687969699502, 3.515637945383787e-05, 0.019451051950454712, -0.004022890701889992, 0.02643146924674511, -0.01058173831552267, -0.003826811444014311, -0.03184325248003006, -0.008235324174165726, -0.004686291795223951, -0.002248374279588461, 0.0016143850516527891, 0.014980447478592396, 0.006297408603131771, -0.0010465724626556039, -0.0023071980103850365, -0.013320310041308403, 0.0019248436437919736, -0.018509872257709503, 0.015817051753401756, 0.01853601634502411, -0.01517652627080679, -0.007385647855699062, -0.0071699609979987144, -0.0003788821049965918, -0.008150356821715832, -0.03866680711507797, -0.028810562565922737, -0.0125163858756423, 0.015751691535115242, -0.01844451203942299, -0.046614550054073334, -0.006941202096641064, -0.0020179813727736473, -0.024575253948569298, 0.026509901508688927, -0.00528760114684701, -0.010790889151394367, 0.03720274940133095, 0.017398755997419357, -0.005395444575697184, 0.013006583787500858, 0.005241849459707737, -0.030980506911873817, -0.007333360146731138, -0.006490219850093126, -0.030980506911873817, -0.027215786278247833, -0.004529428202658892, 0.02125498093664646, 0.010098076425492764, -0.020379159599542618, -0.024026231840252876, 0.012281090952455997, -0.0487322062253952, -0.001451802672818303, -0.03343803063035011, 0.008392187766730785, -0.02214387245476246, -0.015006591565907001, 0.011490237899124622, -0.0027304021641612053, -0.004918318707495928, 0.0011674879351630807, -0.019111180678009987, -0.007862773723900318, -0.01745104417204857, -0.0005996754043735564, 0.013529461808502674, -0.0005375836626626551, -0.04081060737371445, -0.02092818170785904, 0.02188243344426155, 0.014745152555406094, -0.009163432754576206, 0.02490205317735672, 0.011019648052752018, -0.01926804520189762, -0.006663423031568527, 0.0029248474165797234, -0.001826804131269455, -0.006882378365844488, -0.005996753927320242, -0.029150433838367462, -0.006509827915579081, 0.004300669301301241, 0.011921612545847893, 0.00525492150336504, 0.02215694449841976, 0.003428117139264941, 0.015150382183492184, 0.00859480258077383, -0.012640569359064102, -0.024156952276825905, -0.0029526252765208483, -0.014562144875526428, -0.008470619097352028, -0.006830090656876564, -0.011614421382546425, 0.04261453449726105, 0.004571912344545126, -0.005326816812157631, -0.00612420542165637, 0.03657529875636101, -0.009653630666434765, -0.005692831240594387, 0.013032727874815464, 0.0025147150736302137, 0.011712461709976196, -0.00756865506991744, -0.0014828485436737537, 0.013934691436588764, -0.0033333455212414265, -0.0031470702961087227, -0.016575224697589874, -0.027085067704319954, 0.02449682168662548, 0.019738635048270226, -0.01934647560119629, 0.0012328476877883077, 0.003732039825990796, -0.021725570783019066, -0.02057523839175701, -0.010202651843428612, 0.003204260254278779, -0.03040534071624279, -0.00509805791079998, -0.00420589791610837, 8.399745274800807e-05, -0.01073860190808773, -0.01057520229369402, 0.01513731013983488, 0.0028692916966974735, 0.007346432190388441, 0.29385727643966675, -0.016928166151046753, -0.016405289992690086, 0.028705988079309464, 0.012941224500536919, 0.005584987811744213, 0.011202655732631683, -0.010895464569330215, -0.01583012379705906, 0.005826818756759167, 0.014326849952340126, -0.002076805103570223, 0.008039245381951332, 0.0032761557959020138, 0.007444471586495638, -0.02670598030090332, -0.023254986852407455, -0.01934647560119629, 0.0032418419141322374, -0.03892824798822403, 0.005395444575697184, -0.005470608361065388, -0.006150349508970976, -0.021686354652047157, 0.00807846151292324, 0.0003737758961506188, -0.015542540699243546, -0.006300676614046097, 0.011771284975111485, 0.03283672034740448, -0.028130821883678436, -0.01362096518278122, 0.009529447183012962, 0.0030702727381139994, -0.03003932535648346, -0.0033186397049576044, 0.012503313831984997, 0.010588274337351322, 0.03545111045241356, 0.0009256569901481271, -0.0034542609937489033, -0.01163402944803238, 0.012542529962956905, -0.005241849459707737, 0.0015874241944402456, 0.026196174323558807, -0.01107847224920988, -0.022614462301135063, -0.013411814346909523, 0.030614491552114487, -0.004718971438705921, 0.00733989616855979, 0.005460804328322411, 0.02598702348768711, 0.004143806174397469, -0.0054510002955794334, 0.014352994039654732, -0.008183036930859089, 0.021634066477417946, -0.004196093883365393, 0.009176503866910934, 0.02747722528874874, -0.015045806765556335, 0.04394787549972534, -0.038091644644737244, 0.012424882501363754, -0.04271911084651947, -0.01096082478761673, 0.007588263135403395, -0.02237916737794876, 0.006039238069206476, -0.021464131772518158, -0.020640598610043526, 0.0016397119034081697, -0.030875930562615395, -0.012928152456879616, 0.030117757618427277, 0.025372643023729324, 0.03884981572628021, 0.027634087949991226, -0.013699396513402462, 0.003441189182922244, 0.0077320546843111515, -0.00764708686619997, -0.0004946913686580956, -0.04949037730693817, -0.002733670175075531, 0.0015433062799274921, -0.02530728280544281, -0.016313785687088966, 0.011849716305732727, -0.00614708149805665, -0.0003778608806896955, -0.017085030674934387, 0.008810490369796753, 0.014784367755055428, -0.0182745773345232, 0.020536024123430252, -0.025281138718128204, 0.0259347353130579, -0.024483749642968178, 0.0007651171763427556, 0.0019036018056795, 0.038143932819366455, -0.038719095289707184, -0.003323541721329093, -0.007784342393279076, 0.015437965281307697, -0.0028938015457242727, -0.0008382383966818452, -0.01167978160083294, -0.015620972029864788, 0.008274540305137634, 0.003302299650385976, 0.0015669992426410317, 0.008000029250979424, 0.01768633909523487, -0.017973922193050385, 0.00830068439245224, -0.008137284778058529, 0.006941202096641064, -0.028261542320251465, -0.012052332051098347, 0.005447732284665108, -0.003037592861801386, -0.006526167970150709, -0.022614462301135063, -0.004823547322303057, 0.03241841867566109, -0.042875975370407104, 0.028313830494880676, -0.013346454128623009, 0.028758276253938675, -0.0130850151181221, -0.017333397641777992, 0.00847715511918068, -0.006611135322600603, 0.008947744965553284, -0.02120269276201725, -0.007359504234045744, 0.0008627482457086444, 0.0010465724626556039, 0.00623531686142087, 0.012235338799655437, 0.005333352833986282, 0.004669951740652323, 0.022719038650393486, -0.004781063180416822, 0.022862829267978668, -0.021895505487918854, -0.03605242073535919, -0.007281072437763214, -0.0007291693473234773, -0.00807846151292324, 0.026039311662316322, -0.003996746614575386, -0.03681059181690216, -0.03542496636509895, -0.02711120992898941, -0.008045781403779984, -0.03346417471766472, 0.009352975524961948, 0.0432942770421505, -0.01763405092060566, -0.01012422051280737, 0.006751658860594034, -0.16711172461509705, 0.028183110058307648, 0.011660173535346985, -0.008777810260653496, 0.01678437553346157, 0.0017532744677737355, 0.008836633525788784, 0.012392202392220497, -0.003457529004663229, -0.01583012379705906, 0.01930726133286953, -0.01822228915989399, -0.03406548500061035, 0.007516367360949516, -0.002589878858998418, -0.0007589897140860558, -0.02477133274078369, -0.016941238194704056, 0.013817043974995613, 0.0018970657838508487, 0.02836611680686474, -0.018575232475996017, 0.0028954355511814356, -0.006591527722775936, -0.00044322057510726154, 0.0014656917192041874, -0.0036176603753119707, 0.016980454325675964, 0.002312100026756525, -0.004111126065254211, 3.694355837069452e-05, 0.0026879184879362583, 0.013477173633873463, 0.0003899115545209497, 0.025045843794941902, 0.02107197232544422, 0.013921619392931461, -0.012549065984785557, 0.0006066198693588376, 0.020039290189743042, 0.03307201713323593, 0.016353001818060875, 0.007346432190388441, 0.0012785994913429022, 0.0025670030154287815, 0.02516349032521248, 0.01858830451965332, -0.0053856405429542065, 0.02214387245476246, 0.00030862042331136763, -0.00023856296320445836, -0.002313734032213688, 0.020967397838830948, -0.0018986997893080115, -0.010026181116700172, 0.03252299502491951, -0.03103279322385788, 0.019098108634352684, 0.0014101358829066157, 0.007111137267202139, -0.004771259147673845, -0.01588241197168827, -0.015254957601428032, 0.006320284679532051, 0.009300687350332737, -0.032679859548807144, -0.023516425862908363, 0.010000037029385567, -0.0007177314255386591, 0.0013872600393369794, -0.023150412365794182, -0.02101968601346016, 0.005849694833159447, -0.003037592861801386, 0.020536024123430252, -0.004872567020356655, -0.02611774392426014, 0.026902059093117714, -0.006856234278529882, -0.02160792239010334, -0.007941205985844135, 0.01084971334785223, -0.004980410449206829, 0.0011127492180094123, 0.003401973284780979, 0.00985624548047781, -0.0022238644305616617, -0.004591519944369793, 0.010973896831274033, -0.005709171295166016, 0.012483705766499043, -0.03850994631648064, -0.018549088388681412, -0.012601353228092194, -0.016810519620776176, 0.012817041017115116, 0.00836604367941618, -0.002356217708438635, -0.004009818658232689, -0.0191765408962965, -0.009352975524961948, -0.007993493229150772, -0.008915065787732601, 0.022274591028690338, 0.01722882129251957, 0.015490253455936909, 0.013673252426087856, 0.01844451203942299, 0.020405303686857224, -0.010607882402837276, -0.024379175156354904, 0.0046960958279669285, 0.012862792238593102, 0.027058923617005348, 0.004973874427378178, 0.01610463485121727, -0.024078520014882088, -0.023333419114351273, 0.019189612939953804, 0.006647083442658186, -0.0064117880538105965, -0.009503303095698357, -0.01217651553452015, 0.01877131126821041, 0.014575216919183731, -0.010810497216880322, -0.05845773220062256, -0.0050523062236607075, 0.02805239148437977, 0.028679843991994858, -0.004130734130740166, 0.016575224697589874, 0.029987039044499397, 0.018928173929452896, -0.010875857435166836, -0.004751651547849178, -0.0016372608952224255, -0.010973896831274033, -0.0022254984360188246, -0.0005759824998676777, 0.007607871200889349, -0.0038660273421555758, -0.0025964148808270693, -0.015189598314464092, -0.00039787727291695774, 0.03929426148533821, 0.0017303985077887774, 1.956961932592094e-05, 0.010470626875758171, -0.0077516622841358185, -0.004267989657819271, 0.012751680798828602, -0.026457613334059715, 0.03884981572628021, 0.01614385098218918, -0.009875853545963764, 0.026640620082616806, -0.007084993179887533, 0.004836618900299072, -0.007843165658414364, 0.014431425370275974, -0.002102948958054185, -0.019464123994112015, -0.00031209265580400825, 0.02499355562031269, -0.023307275027036667, 0.003535960800945759, 0.013673252426087856, 0.005372568964958191, -0.025738656520843506, -0.0024656953755766153, -0.008745130151510239, -0.0003656059270724654, 0.027843238785862923, 0.015411821193993092, -0.017607908695936203, -0.00990199763327837, -0.004843154922127724, -0.022405311465263367, 0.018745167180895805, 0.029490305110812187, -0.017882417887449265, 0.014849727973341942, -0.007268000394105911, -0.011588278226554394, -0.008503299206495285, -0.015712475404143333, -0.00578433508053422, -0.026758268475532532, 0.00940526369959116, 0.029699455946683884, 0.0019150397274643183, 0.0193987637758255, -0.009882389567792416, 0.014379138126969337, 0.003522888757288456, 0.00018658157205209136, 0.016117706894874573, -0.00841179583221674, 0.013725540600717068, -0.032549139112234116, -0.021228836849331856, -0.03568640723824501, -0.014026195742189884, -0.0008218984585255384, -0.008516371250152588, -0.02169942669570446, -0.018431439995765686, 0.01745104417204857, -0.0236863624304533, 0.01615692302584648, 0.011529454030096531, 0.010941216722130775, -0.012032723985612392, 0.014156915247440338, -0.030928218737244606, -0.015398749150335789, 0.009339903481304646, 0.02576480060815811, -0.020353015512228012, -0.0035000129137188196, 0.011496773920953274, 0.01755562052130699, 0.004375833086669445, 0.023960871621966362, 0.0010759843280538917, -0.022993547841906548, -0.021764785051345825, -0.07691531628370285, -0.004950998816639185, 0.025411857292056084, 0.008045781403779984, 0.012568674050271511, -0.007078457623720169, 0.002808833960443735, -0.0012647105613723397, -0.024013159796595573, -0.011895468458533287, -0.001453436678275466, -0.012202659621834755, 0.010503306984901428, -0.013555604964494705, -0.0241308081895113, -0.03539882227778435, 0.023385707288980484, -0.0009861147264018655, 0.01687587983906269, 0.015908556059002876, 0.008379115723073483, 0.004686291795223951, 0.0054738763719797134, 0.007457543630152941, -0.011248406954109669, 0.00525492150336504, -0.028888994827866554, 0.020862821489572525, -0.014052338898181915, -0.014130771160125732, -0.015215742401778698, -0.02567329630255699, -0.0026487025897949934, 0.01007846836000681, -0.020954325795173645, -0.020000074058771133, 0.014104627072811127, 0.013503317721188068, 0.01224841084331274, 0.007248392794281244, -0.017163461074233055, -0.03108508139848709, 0.008248396217823029, 0.0053660329431295395, -0.0329151526093483, 0.012039260007441044, -0.01713731698691845, 0.006173225119709969, 0.03500666469335556, 0.0009803957073017955, 0.007032705470919609, 0.011934684589505196, -0.012549065984785557, -0.012542529962956905, 0.014888943172991276, -0.01190854050219059, 0.037830203771591187, 0.010542522184550762, -0.010712457820773125, -0.027398793026804924, 0.027032779529690742, 0.001944451592862606, -0.014719008468091488, -0.004954266361892223, 0.01579090766608715, -0.002980403136461973, -0.012052332051098347, 0.009601342491805553, 0.004153610207140446, -0.02534649893641472, -0.009941212832927704, 0.007424863986670971, 0.023150412365794182, 0.01168631762266159, -0.018836671486496925, -0.012601353228092194, 0.0020163473673164845, -0.03720274940133095, -0.03532039001584053, 0.03160795941948891, 0.017111174762248993, 0.004503284581005573, -0.017581764608621597, 0.004199361894279718, 0.009287616237998009, 0.05349039286375046, -0.004320277366787195, 0.0013856260338798165, -0.006718978751450777, 0.034536074846982956, 0.014758224599063396, 0.010235331952571869, -0.01136605441570282, 0.034170061349868774, -0.022222304716706276, 0.046117816120386124, 0.01601313054561615, -0.0072222487069666386, 0.030875930562615395, 0.03132037818431854, 0.027503369376063347, -0.000991016742773354, -0.004676487762480974, -0.005245117470622063, -0.010268012061715126, 0.004957534372806549, -0.022719038650393486, -0.02896742708981037, -0.011052328161895275, -0.010947752743959427, 0.018235361203551292, -0.008915065787732601, 0.0050751818343997, 0.02692820318043232, -0.025464145466685295, 0.011647101491689682, 0.008967353031039238, -0.00462420005351305, -0.023333419114351273, 0.022849757224321365, 0.01809157058596611, 0.011006576009094715, 0.02039223164319992, -0.007509831339120865, 0.008281076326966286, 0.021398771554231644, -0.0030522989109158516, 0.006192833185195923, 0.015490253455936909, 0.009555590339004993, 0.0023366098757833242, -0.00282517378218472, -0.02015693672001362, -0.01511116698384285, -0.02056216634809971, 0.01647064834833145, -0.037281181663274765, 0.021268051117658615, -0.02711120992898941, 0.05124201998114586, 0.00013633628259412944, -0.025607937946915627, 0.01993471384048462, -0.01389547623693943, 0.01566018909215927, 0.004692827817052603, 0.009594806469976902, -0.025607937946915627, -0.009006569162011147, 0.0029591612983494997, -0.015359533950686455, 0.00047222396824508905, -0.006849698256701231, -0.049333516508340836, 0.0069542741402983665, 0.014888943172991276, -0.0003425257746130228, -0.01247063372284174, 0.017215749248862267, 0.014078482985496521, 0.007908525876700878, -0.010215723887085915, 0.022457599639892578, -0.027712520211935043, -0.010764745064079762, 0.01427456270903349, -0.0036993599496781826, 0.006483683828264475, -0.03830079361796379, 0.013437957502901554, 0.0025163490790873766, -0.026326894760131836, -0.01925497315824032, 0.00820918008685112, -0.02070595882833004, -0.022902045398950577, -0.01588241197168827, 0.0030130830127745867, 0.018392223864793777, 0.022810541093349457, 0.030928218737244606, -0.029019715264439583, -0.024692900478839874, 0.052261628210544586, -0.010549058206379414, -0.014065410941839218, 0.00963402260094881, 0.00562747148796916]\n",
      "1536\n"
     ]
    }
   ],
   "source": [
    "print(positive_review)\n",
    "print(len(positive_review))"
   ]
  },
  {
   "cell_type": "code",
   "execution_count": 33,
   "metadata": {},
   "outputs": [
    {
     "name": "stdout",
     "output_type": "stream",
     "text": [
      "Cosine Similarity between positive and neutual review: 0.9348103775852385\n"
     ]
    }
   ],
   "source": [
    "print(\"Cosine Similarity between positive and neutual review:\", cosine_similarity(positive_review, negative_review))"
   ]
  },
  {
   "cell_type": "code",
   "execution_count": 34,
   "metadata": {},
   "outputs": [
    {
     "name": "stdout",
     "output_type": "stream",
     "text": [
      "Cosine Similarity between positive review and itself: 1.0000000000000002\n"
     ]
    }
   ],
   "source": [
    "print(\"Cosine Similarity between positive review and itself:\", cosine_similarity(positive_review, positive_review))"
   ]
  },
  {
   "cell_type": "code",
   "execution_count": 35,
   "metadata": {},
   "outputs": [
    {
     "name": "stdout",
     "output_type": "stream",
     "text": [
      "Cosine Similarity between positive and good restaurant review: 0.8378337749480329\n",
      "Cosine Similarity between negative and good restaurant review: 0.8045361482843162\n"
     ]
    }
   ],
   "source": [
    "good_restraurant = get_embedding(\"这家餐馆太好吃了，一点都不糟糕\", engine=EMBEDDING_MODEL)\n",
    "bad_restraurant = get_embedding(\"这家餐馆太糟糕了，一点都不好吃\", engine=EMBEDDING_MODEL)\n",
    "\n",
    "print(\"Cosine Similarity between positive and good restaurant review:\", cosine_similarity(positive_review, good_restraurant))\n",
    "print(\"Cosine Similarity between negative and good restaurant review:\", cosine_similarity(negative_review, good_restraurant))\n"
   ]
  },
  {
   "cell_type": "code",
   "execution_count": 36,
   "metadata": {},
   "outputs": [
    {
     "name": "stdout",
     "output_type": "stream",
     "text": [
      "好评例子的评分 : 0.033298\n",
      "差评例子的评分 : -0.027249\n"
     ]
    }
   ],
   "source": [
    "\n",
    "def get_score(sample_embedding):\n",
    "  return cosine_similarity(sample_embedding, positive_review) - cosine_similarity(sample_embedding, negative_review)\n",
    "\n",
    "positive_score = get_score(good_restraurant)\n",
    "negative_score = get_score(bad_restraurant)\n",
    "\n",
    "\n",
    "print(\"好评例子的评分 : %f\" % (positive_score))\n",
    "print(\"差评例子的评分 : %f\" % (negative_score))\n"
   ]
  },
  {
   "cell_type": "markdown",
   "metadata": {},
   "source": [
    "### 生成一个正交的，Cosine Similarity 为 0 的向量"
   ]
  },
  {
   "cell_type": "code",
   "execution_count": 38,
   "metadata": {},
   "outputs": [
    {
     "name": "stdout",
     "output_type": "stream",
     "text": [
      "-9.09016681580666e-18\n"
     ]
    }
   ],
   "source": [
    "import numpy as np\n",
    "\n",
    "# 假设原向量是一个高维向量\n",
    "original_vector = np.array(positive_review)\n",
    "\n",
    "# 对原向量进行归一化\n",
    "original_vector /= np.linalg.norm(original_vector)\n",
    "\n",
    "# 从单位高斯分布中随机抽取一个向量\n",
    "random_vector = np.random.randn(len(original_vector))\n",
    "\n",
    "# 从随机向量中减去在原向量方向上的分量\n",
    "orthogonal_vector = random_vector - random_vector.dot(original_vector) * original_vector\n",
    "\n",
    "# 验证新向量与原向量是否正交（即它们的余弦相似度是否为0）\n",
    "cosine_similarity = np.dot(original_vector, orthogonal_vector) / (np.linalg.norm(original_vector) * np.linalg.norm(orthogonal_vector))\n",
    "print(cosine_similarity)  # 这个值应该接近0\n"
   ]
  },
  {
   "cell_type": "markdown",
   "metadata": {},
   "source": [
    "### 降维可视化向量"
   ]
  },
  {
   "cell_type": "code",
   "execution_count": 39,
   "metadata": {},
   "outputs": [],
   "source": [
    "import matplotlib.pyplot as plt\n",
    "from sklearn.decomposition import PCA\n",
    "\n",
    "def visualize_words(words,vectors):\n",
    "    # Create a PCA object and fit_transform the vectors\n",
    "    pca = PCA(n_components=2)\n",
    "    pca_result = pca.fit_transform(vectors)\n",
    "\n",
    "    # Create a color map\n",
    "    colors = [\"b\", \"g\", \"r\", \"c\"]\n",
    "\n",
    "    # Plot each word in 2D space using PCA results\n",
    "    for i, word in enumerate(words):\n",
    "        plt.scatter(pca_result[i, 0], pca_result[i, 1], c=colors[i], label=word)\n",
    "        plt.annotate(word, xy=(pca_result[i, 0], pca_result[i, 1]))\n",
    "\n",
    "    plt.legend()\n",
    "    plt.show()"
   ]
  },
  {
   "cell_type": "code",
   "execution_count": 41,
   "metadata": {},
   "outputs": [
    {
     "data": {
      "image/png": "[encoded data removed]",
      "text/plain": [
       "<Figure size 640x480 with 1 Axes>"
      ]
     },
     "metadata": {},
     "output_type": "display_data"
    }
   ],
   "source": [
    "words = [f\"Positive\", \"Negative\", \"Good Restaurant\", \"Bad Restaurant\"]\n",
    "vectors = [np.array(x) for x in [positive_review, negative_review, good_restraurant, bad_restraurant]]\n",
    "\n",
    "visualize_words(words, vectors)"
   ]
  },
  {
   "cell_type": "code",
   "execution_count": 45,
   "metadata": {},
   "outputs": [
    {
     "data": {
      "image/png": "[encoded data removed]",
      "text/plain": [
       "<Figure size 640x480 with 1 Axes>"
      ]
     },
     "metadata": {},
     "output_type": "display_data"
    }
   ],
   "source": [
    "good_phone = get_embedding(\"买的银色版真的很好看，一天就到了，晚上就开始拿起来完系统很丝滑流畅，做工扎实，手感细腻，很精致哦苹果一如既往的好品质\", engine=EMBEDDING_MODEL)\n",
    "bad_phone = get_embedding(\"随意降价，不予价保，服务态度差\", engine=EMBEDDING_MODEL)\n",
    "\n",
    "words = [f\"Positive\", \"Negative\", \"Good Phone\", \"Bad Phone\"]\n",
    "vectors = [np.array(x) for x in [positive_review, negative_review, good_phone, bad_phone]]\n",
    "\n",
    "visualize_words(words, vectors)\n"
   ]
  },
  {
   "cell_type": "markdown",
   "metadata": {},
   "source": [
    "### 通过向量进行分类"
   ]
  },
  {
   "cell_type": "markdown",
   "metadata": {},
   "source": []
  }
 ],
 "metadata": {
  "kernelspec": {
   "display_name": "mactalk",
   "language": "python",
   "name": "python3"
  },
  "language_info": {
   "codemirror_mode": {
    "name": "ipython",
    "version": 3
   },
   "file_extension": ".py",
   "mimetype": "text/x-python",
   "name": "python",
   "nbconvert_exporter": "python",
   "pygments_lexer": "ipython3",
   "version": "3.10.11"
  },
  "orig_nbformat": 4
 },
 "nbformat": 4,
 "nbformat_minor": 2
}
